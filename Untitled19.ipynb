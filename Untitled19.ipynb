{
  "nbformat": 4,
  "nbformat_minor": 0,
  "metadata": {
    "colab": {
      "name": "Untitled19.ipynb",
      "provenance": [],
      "toc_visible": true,
      "authorship_tag": "ABX9TyP8+TM4pPjftf33Mm6tq3i9",
      "include_colab_link": true
    },
    "kernelspec": {
      "name": "python3",
      "display_name": "Python 3"
    },
    "language_info": {
      "name": "python"
    }
  },
  "cells": [
    {
      "cell_type": "markdown",
      "metadata": {
        "id": "view-in-github",
        "colab_type": "text"
      },
      "source": [
        "<a href=\"https://colab.research.google.com/github/GustavoSilva95/Data_Science/blob/main/Untitled19.ipynb\" target=\"_parent\"><img src=\"https://colab.research.google.com/assets/colab-badge.svg\" alt=\"Open In Colab\"/></a>"
      ]
    },
    {
      "cell_type": "markdown",
      "source": [
        "---\n",
        "\n",
        " # <center>***Projeto Data Science[<center>Gustavo Silva](https://www.linkedin.com/in/gustavo-vinicius-silva)***\n",
        "\n",
        "---"
      ],
      "metadata": {
        "id": "xtoI9cR1UTrK"
      }
    },
    {
      "cell_type": "markdown",
      "source": [
        "<center><img alt=\"Analisando Airbnb\" width=\"100%\" src=\"https://raw.githubusercontent.com/GustavoSilva95/Data_Science/main/Imagens/Credito1.png\"></center>\n",
        "\n",
        "# Detectando Fraudes em Cartões de Crédito"
      ],
      "metadata": {
        "id": "tcw8QGxKWchC"
      }
    }
  ]
}