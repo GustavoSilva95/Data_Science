{
  "nbformat": 4,
  "nbformat_minor": 0,
  "metadata": {
    "colab": {
      "name": "Regularização L1 e L2.ipynb",
      "provenance": [],
      "toc_visible": true,
      "authorship_tag": "ABX9TyMXvglMLq3kjUGnDRP/OGq4",
      "include_colab_link": true
    },
    "kernelspec": {
      "name": "python3",
      "display_name": "Python 3"
    },
    "language_info": {
      "name": "python"
    }
  },
  "cells": [
    {
      "cell_type": "markdown",
      "metadata": {
        "id": "view-in-github",
        "colab_type": "text"
      },
      "source": [
        "<a href=\"https://colab.research.google.com/github/GustavoSilva95/Data_Science/blob/main/Regulariza%C3%A7%C3%A3o_L1_e_L2.ipynb\" target=\"_parent\"><img src=\"https://colab.research.google.com/assets/colab-badge.svg\" alt=\"Open In Colab\"/></a>"
      ]
    },
    {
      "cell_type": "markdown",
      "source": [
        "*by [Gustavo Silva](https://www.linkedin.com/in/gustavo-vinicius-silva)*\n",
        "\n",
        "---"
      ],
      "metadata": {
        "id": "Y4MDTZ5d1VWu"
      }
    },
    {
      "cell_type": "markdown",
      "source": [
        "# Regularização L1 e L2\n",
        "\n",
        "<center><img alt=\"Regularização\" width=\"100%\" src=\"https://raw.githubusercontent.com/GustavoSilva95/Data_Science/main/Imagens/Regulariza%C3%A7%C3%A3o.png\"></center>"
      ],
      "metadata": {
        "id": "1NYgv4RNuL9d"
      }
    },
    {
      "cell_type": "markdown",
      "source": [
        "# Regressão Linear\n",
        "\n",
        "Uma análise de regressão estuda a relação existente entre uma variável dependente e uma ou mais variáveis independentes. Deste modo, um algoritmo de regressão linear tenta traçar uma reta que melhor se adeque aos dados.  Ou seja, uma função que melhor descreva o comportamento dos dados.\n",
        "\n",
        "Supondo que ${y}_i$ é o valor que queremos prever para um determinado ponto e ${reg}_i$ é a estimativa desse valor, onde ${reg}_i = \\beta_0 + \\beta_1{x}_1$, temos que o valor estimado (${reg}_i$) menos o valor real (${y}_i$) é o erro naquele ponto.\n",
        "\n",
        "<center><img alt=\"reta\" width=\"30%\" src=\"https://raw.githubusercontent.com/GustavoSilva95/Data_Science/main/Imagens/reta.png\"></center>\n",
        "\n",
        "A Regressão Linear tenta fazer com que o somatório dos erros em todos os pontos, ao quadrado, seja o menor possível. Essa função é chamada Função de Custo.\n",
        "\n",
        "$$Custo = \\sum_{i=1}^{n}(reg_i - {y}_i)^2$$\n"
      ],
      "metadata": {
        "id": "Y7HOigQ0WRCM"
      }
    },
    {
      "cell_type": "markdown",
      "source": [
        "# Regularização\n",
        "\n",
        "Regularização é quando se adiciona um termo somando a função de custo vista acima. Esse termo tem a função de impedir que alguma variável possua um coeficiente ($\\beta$) muito grande em relação as outras variáveis. Isso ocorre, pois, ao tentar obter a melhor reta com o menor valor possível na função de custo, além de tentar diminuir o erro em cada ponto, o modelo de regressão vai tentar diminuir os coeficientes ($\\beta$) das variáveis. Com isso, modelos com Regularização tentam evitar o `Overfitting`, tornando-se mais `generalizáveis`."
      ],
      "metadata": {
        "id": "kdgjynU0Grsy"
      }
    },
    {
      "cell_type": "markdown",
      "source": [
        "## Regularização L1\n",
        "\n",
        "A Regularização L1 também é chamada de `Regressão Lasso`. O termo que é somado a função de custo para essa regularização é:\n",
        "\n",
        "$$\\alpha\\sum_{i=1}^{n}|\\beta_i|$$\n",
        "\n",
        "Assim, a função de custo para a Regressão Lasso fica:\n",
        "\n",
        "$$Custo_{Lasso} = \\sum_{i=1}^{n}(reg_i - {y}_i)^2 + \\alpha\\sum_{i=1}^{n}|\\beta_i|$$\n",
        "\n",
        "Onde $\\alpha$ é o parâmetro de penalização dos coeficientes ($\\beta$), isto é, quanto maior o $\\alpha$ maior fica esse termo, que resulta em um maior \"esforço\" por parte do modelo para tentar diminuir esse termo, ou seja, diminuir os coeficientes. "
      ],
      "metadata": {
        "id": "IZVs0uYJHsFi"
      }
    },
    {
      "cell_type": "markdown",
      "source": [
        "## Regularização L2\n",
        "\n",
        "A Regularização L2 também é chamada de Regressão Ridge. Onde o termo que é somado a função de custo é:\n",
        "\n",
        "$$\\alpha\\sum_{i=1}^{n}(\\beta_i)^2$$\n",
        "\n",
        "Com isso, a função de custo para a Regressão Ridge fica:\n",
        "\n",
        "$$Custo_{Ridge} = \\sum_{i=1}^{n}(reg_i - {y}_i)^2 + \\alpha\\sum_{i=1}^{n}(\\beta_i)^2$$"
      ],
      "metadata": {
        "id": "5Z_xB8Y8L-mD"
      }
    },
    {
      "cell_type": "markdown",
      "source": [
        "## Elastic Net\n",
        "\n",
        "Existe também a Elastic Net, que combina, em sua Função de Custo, as Regularizações L1 e L2.\n",
        "\n",
        "$$Custo_{Elastic Net} = \\sum_{i=1}^{n}(reg_i - {y}_i)^2 + C\\alpha\\sum_{i=1}^{n}|\\beta| + C\\alpha\\sum_{i=1}^{n}(\\beta_i)^2$$\n",
        "\n",
        "Onde `C` é a constante que define o peso que será dado para cada regularização. Dessa forma, `C varia de 0 a 1`. Se, por exemplo, C= 0,90 significa que a Regularização L1 terá 90% de importância enquanto a Regularização L2 apenas 10%."
      ],
      "metadata": {
        "id": "Yqkw3mcJNE9J"
      }
    },
    {
      "cell_type": "markdown",
      "source": [
        "# Testando os Modelos de Regressão\n",
        "\n",
        "Para testar os diferentes modelos apresentados acima, foi usado um conjunto de dados disponível no [kaggle](https://www.kaggle.com/mohansacharya/graduate-admissions).\n",
        "\n",
        "O conjunto de dados contém vários parâmetros que são considerados importantes durante a inscrição para Programas de Mestrado.\n",
        "\n",
        "O foco deste projeto está em mostrar os diferentes modelos de regressão que utilizam regularização. Portanto, não foi feito um pré-processamento rigoroso dos dados antes da utilização dos modelos.\n",
        "\n",
        "Os modelos foram avaliados usando a métrica $R^2$, que avalia o quão melhor é a reta, que o modelo projetou, em relação a média. O $R^2$ varia em uma escala de 0 a 1, quanto mais próximo de 1 melhor. Porém, como dito, a intenção do projeto não é avaliar os modelos mas sim apresenta-los.\n",
        "\n",
        "### Dicionário de Variáveis\n",
        "\n",
        "|Atributo|Descrição|\n",
        "|:-------|:---------|\n",
        "| GRE Score | Pontuações GRE (de 340) |\n",
        "| TOEFL Score | Pontuações do TOEFL (de 120) |\n",
        "| University Rating | Avaliação da Universidade ( de 5 ) |\n",
        "| SOP | Declaração de Propósito |\n",
        "| LOR | Força da Carta de Recomendação ( de 5 ) |\n",
        "| CGPA | Graduação GPA (de 10) |\n",
        "| Research | Experiência em Pesquisa (0 ou 1) |\n",
        "|Chance of Admit | Chance de Admissão (variando de 0 a 1) |"
      ],
      "metadata": {
        "id": "tOI5CUQmUtcs"
      }
    },
    {
      "cell_type": "code",
      "source": [
        "# Importando bibliotecas\n",
        "# Importando primeiramente apenas o pandas\n",
        "import pandas as pd"
      ],
      "metadata": {
        "id": "D6psSGA7TheG"
      },
      "execution_count": null,
      "outputs": []
    },
    {
      "cell_type": "code",
      "source": [
        "# Importando o dataset para um DataFrame\n",
        "df = pd.read_csv('Admission_Predict.csv')"
      ],
      "metadata": {
        "id": "c5jiTxbHUS9d"
      },
      "execution_count": null,
      "outputs": []
    },
    {
      "cell_type": "code",
      "source": [
        "# Visualizando as 5 primeiras entradas\n",
        "df.head()"
      ],
      "metadata": {
        "colab": {
          "base_uri": "https://localhost:8080/",
          "height": 206
        },
        "id": "1shqPvGIUe_D",
        "outputId": "89210814-144e-415f-9a3b-e869306e091f"
      },
      "execution_count": null,
      "outputs": [
        {
          "output_type": "execute_result",
          "data": {
            "text/html": [
              "\n",
              "  <div id=\"df-2c30de1a-b28f-474b-bfb4-bd24477f202b\">\n",
              "    <div class=\"colab-df-container\">\n",
              "      <div>\n",
              "<style scoped>\n",
              "    .dataframe tbody tr th:only-of-type {\n",
              "        vertical-align: middle;\n",
              "    }\n",
              "\n",
              "    .dataframe tbody tr th {\n",
              "        vertical-align: top;\n",
              "    }\n",
              "\n",
              "    .dataframe thead th {\n",
              "        text-align: right;\n",
              "    }\n",
              "</style>\n",
              "<table border=\"1\" class=\"dataframe\">\n",
              "  <thead>\n",
              "    <tr style=\"text-align: right;\">\n",
              "      <th></th>\n",
              "      <th>Serial No.</th>\n",
              "      <th>GRE Score</th>\n",
              "      <th>TOEFL Score</th>\n",
              "      <th>University Rating</th>\n",
              "      <th>SOP</th>\n",
              "      <th>LOR</th>\n",
              "      <th>CGPA</th>\n",
              "      <th>Research</th>\n",
              "      <th>Chance of Admit</th>\n",
              "    </tr>\n",
              "  </thead>\n",
              "  <tbody>\n",
              "    <tr>\n",
              "      <th>0</th>\n",
              "      <td>1</td>\n",
              "      <td>337</td>\n",
              "      <td>118</td>\n",
              "      <td>4</td>\n",
              "      <td>4.5</td>\n",
              "      <td>4.5</td>\n",
              "      <td>9.65</td>\n",
              "      <td>1</td>\n",
              "      <td>0.92</td>\n",
              "    </tr>\n",
              "    <tr>\n",
              "      <th>1</th>\n",
              "      <td>2</td>\n",
              "      <td>324</td>\n",
              "      <td>107</td>\n",
              "      <td>4</td>\n",
              "      <td>4.0</td>\n",
              "      <td>4.5</td>\n",
              "      <td>8.87</td>\n",
              "      <td>1</td>\n",
              "      <td>0.76</td>\n",
              "    </tr>\n",
              "    <tr>\n",
              "      <th>2</th>\n",
              "      <td>3</td>\n",
              "      <td>316</td>\n",
              "      <td>104</td>\n",
              "      <td>3</td>\n",
              "      <td>3.0</td>\n",
              "      <td>3.5</td>\n",
              "      <td>8.00</td>\n",
              "      <td>1</td>\n",
              "      <td>0.72</td>\n",
              "    </tr>\n",
              "    <tr>\n",
              "      <th>3</th>\n",
              "      <td>4</td>\n",
              "      <td>322</td>\n",
              "      <td>110</td>\n",
              "      <td>3</td>\n",
              "      <td>3.5</td>\n",
              "      <td>2.5</td>\n",
              "      <td>8.67</td>\n",
              "      <td>1</td>\n",
              "      <td>0.80</td>\n",
              "    </tr>\n",
              "    <tr>\n",
              "      <th>4</th>\n",
              "      <td>5</td>\n",
              "      <td>314</td>\n",
              "      <td>103</td>\n",
              "      <td>2</td>\n",
              "      <td>2.0</td>\n",
              "      <td>3.0</td>\n",
              "      <td>8.21</td>\n",
              "      <td>0</td>\n",
              "      <td>0.65</td>\n",
              "    </tr>\n",
              "  </tbody>\n",
              "</table>\n",
              "</div>\n",
              "      <button class=\"colab-df-convert\" onclick=\"convertToInteractive('df-2c30de1a-b28f-474b-bfb4-bd24477f202b')\"\n",
              "              title=\"Convert this dataframe to an interactive table.\"\n",
              "              style=\"display:none;\">\n",
              "        \n",
              "  <svg xmlns=\"http://www.w3.org/2000/svg\" height=\"24px\"viewBox=\"0 0 24 24\"\n",
              "       width=\"24px\">\n",
              "    <path d=\"M0 0h24v24H0V0z\" fill=\"none\"/>\n",
              "    <path d=\"M18.56 5.44l.94 2.06.94-2.06 2.06-.94-2.06-.94-.94-2.06-.94 2.06-2.06.94zm-11 1L8.5 8.5l.94-2.06 2.06-.94-2.06-.94L8.5 2.5l-.94 2.06-2.06.94zm10 10l.94 2.06.94-2.06 2.06-.94-2.06-.94-.94-2.06-.94 2.06-2.06.94z\"/><path d=\"M17.41 7.96l-1.37-1.37c-.4-.4-.92-.59-1.43-.59-.52 0-1.04.2-1.43.59L10.3 9.45l-7.72 7.72c-.78.78-.78 2.05 0 2.83L4 21.41c.39.39.9.59 1.41.59.51 0 1.02-.2 1.41-.59l7.78-7.78 2.81-2.81c.8-.78.8-2.07 0-2.86zM5.41 20L4 18.59l7.72-7.72 1.47 1.35L5.41 20z\"/>\n",
              "  </svg>\n",
              "      </button>\n",
              "      \n",
              "  <style>\n",
              "    .colab-df-container {\n",
              "      display:flex;\n",
              "      flex-wrap:wrap;\n",
              "      gap: 12px;\n",
              "    }\n",
              "\n",
              "    .colab-df-convert {\n",
              "      background-color: #E8F0FE;\n",
              "      border: none;\n",
              "      border-radius: 50%;\n",
              "      cursor: pointer;\n",
              "      display: none;\n",
              "      fill: #1967D2;\n",
              "      height: 32px;\n",
              "      padding: 0 0 0 0;\n",
              "      width: 32px;\n",
              "    }\n",
              "\n",
              "    .colab-df-convert:hover {\n",
              "      background-color: #E2EBFA;\n",
              "      box-shadow: 0px 1px 2px rgba(60, 64, 67, 0.3), 0px 1px 3px 1px rgba(60, 64, 67, 0.15);\n",
              "      fill: #174EA6;\n",
              "    }\n",
              "\n",
              "    [theme=dark] .colab-df-convert {\n",
              "      background-color: #3B4455;\n",
              "      fill: #D2E3FC;\n",
              "    }\n",
              "\n",
              "    [theme=dark] .colab-df-convert:hover {\n",
              "      background-color: #434B5C;\n",
              "      box-shadow: 0px 1px 3px 1px rgba(0, 0, 0, 0.15);\n",
              "      filter: drop-shadow(0px 1px 2px rgba(0, 0, 0, 0.3));\n",
              "      fill: #FFFFFF;\n",
              "    }\n",
              "  </style>\n",
              "\n",
              "      <script>\n",
              "        const buttonEl =\n",
              "          document.querySelector('#df-2c30de1a-b28f-474b-bfb4-bd24477f202b button.colab-df-convert');\n",
              "        buttonEl.style.display =\n",
              "          google.colab.kernel.accessAllowed ? 'block' : 'none';\n",
              "\n",
              "        async function convertToInteractive(key) {\n",
              "          const element = document.querySelector('#df-2c30de1a-b28f-474b-bfb4-bd24477f202b');\n",
              "          const dataTable =\n",
              "            await google.colab.kernel.invokeFunction('convertToInteractive',\n",
              "                                                     [key], {});\n",
              "          if (!dataTable) return;\n",
              "\n",
              "          const docLinkHtml = 'Like what you see? Visit the ' +\n",
              "            '<a target=\"_blank\" href=https://colab.research.google.com/notebooks/data_table.ipynb>data table notebook</a>'\n",
              "            + ' to learn more about interactive tables.';\n",
              "          element.innerHTML = '';\n",
              "          dataTable['output_type'] = 'display_data';\n",
              "          await google.colab.output.renderOutput(dataTable, element);\n",
              "          const docLink = document.createElement('div');\n",
              "          docLink.innerHTML = docLinkHtml;\n",
              "          element.appendChild(docLink);\n",
              "        }\n",
              "      </script>\n",
              "    </div>\n",
              "  </div>\n",
              "  "
            ],
            "text/plain": [
              "   Serial No.  GRE Score  TOEFL Score  ...  CGPA  Research  Chance of Admit \n",
              "0           1        337          118  ...  9.65         1              0.92\n",
              "1           2        324          107  ...  8.87         1              0.76\n",
              "2           3        316          104  ...  8.00         1              0.72\n",
              "3           4        322          110  ...  8.67         1              0.80\n",
              "4           5        314          103  ...  8.21         0              0.65\n",
              "\n",
              "[5 rows x 9 columns]"
            ]
          },
          "metadata": {},
          "execution_count": 3
        }
      ]
    },
    {
      "cell_type": "markdown",
      "source": [
        "O conjunto de dados não possui nenhum dado faltante."
      ],
      "metadata": {
        "id": "KixHYJAyerGk"
      }
    },
    {
      "cell_type": "code",
      "source": [
        "# Quantidade de dados faltantes\n",
        "(df.isnull().sum() / df.shape[0]).sort_values(ascending=False)"
      ],
      "metadata": {
        "colab": {
          "base_uri": "https://localhost:8080/"
        },
        "id": "if0ZI5UAcIA9",
        "outputId": "649c018f-5589-416d-a1a9-e71dae8ab94e"
      },
      "execution_count": null,
      "outputs": [
        {
          "output_type": "execute_result",
          "data": {
            "text/plain": [
              "Chance of Admit      0.0\n",
              "Research             0.0\n",
              "CGPA                 0.0\n",
              "LOR                  0.0\n",
              "SOP                  0.0\n",
              "University Rating    0.0\n",
              "TOEFL Score          0.0\n",
              "GRE Score            0.0\n",
              "Serial No.           0.0\n",
              "dtype: float64"
            ]
          },
          "metadata": {},
          "execution_count": 5
        }
      ]
    },
    {
      "cell_type": "markdown",
      "source": [
        "O atributo `Serial No.`\té apenas um índice do conjunto de dados, portanto será escluido antes de aplicar os modelos."
      ],
      "metadata": {
        "id": "A9c6RBe5eW81"
      }
    },
    {
      "cell_type": "code",
      "source": [
        "# Excluindo o atributo Serial No.\n",
        "df.drop(['Serial No.'], axis=1, inplace=True)"
      ],
      "metadata": {
        "id": "kFVraPtDehV3"
      },
      "execution_count": null,
      "outputs": []
    },
    {
      "cell_type": "code",
      "source": [
        "# Definindo os atributos preditores e o atributo alvo\n",
        "x = df.drop(['Chance of Admit '], axis=1)\n",
        "y = df['Chance of Admit ']"
      ],
      "metadata": {
        "id": "DBjkML4cgkFc"
      },
      "execution_count": null,
      "outputs": []
    },
    {
      "cell_type": "code",
      "source": [
        "# Separando os dados em Treino e Teste\n",
        "from sklearn.model_selection import train_test_split\n",
        "x_train, x_test, y_train, y_test = train_test_split(x, y, test_size=0.3, random_state=45)"
      ],
      "metadata": {
        "id": "ju7IB7zXgwbo"
      },
      "execution_count": null,
      "outputs": []
    },
    {
      "cell_type": "markdown",
      "source": [
        "## Aplicando Regressão Linear\n",
        "\n",
        "Os cálculos para minimizar a função de custo ao máximo é feita pelo algoritmo do `scikit-learn`."
      ],
      "metadata": {
        "id": "ptMPLE9nfyi-"
      }
    },
    {
      "cell_type": "code",
      "source": [
        "# Importando biblioteca para a Regressão linear\n",
        "from sklearn.linear_model import LinearRegression\n",
        "\n",
        "#Criando o Modelo\n",
        "modeloRegressaoLinear = LinearRegression()\n",
        "modeloRegressaoLinear.fit(x_train, y_train)\n",
        "\n",
        "#Aplicando o modelo aos dados de test e exibindo o resultado de R2\n",
        "resultadoRL    = modeloRegressaoLinear.score(x_test, y_test)\n",
        "resultadoRL\n"
      ],
      "metadata": {
        "colab": {
          "base_uri": "https://localhost:8080/"
        },
        "id": "sEeRUkNehBEi",
        "outputId": "eb3ecfb1-c6dc-436e-ced0-c9246ea44415"
      },
      "execution_count": null,
      "outputs": [
        {
          "output_type": "execute_result",
          "data": {
            "text/plain": [
              "0.8093428763333981"
            ]
          },
          "metadata": {},
          "execution_count": 10
        }
      ]
    },
    {
      "cell_type": "markdown",
      "source": [
        "## Aplicando Regressão Lasso"
      ],
      "metadata": {
        "id": "cNEU_LhoiooX"
      }
    },
    {
      "cell_type": "code",
      "source": [
        "# Importando biblioteca para a Regressão Lasso\n",
        "from sklearn.linear_model import Lasso\n",
        "\n",
        "#Criando o Modelo\n",
        "modeloLasso = Lasso(alpha=1)\n",
        "modeloLasso.fit(x_train, y_train)"
      ],
      "metadata": {
        "colab": {
          "base_uri": "https://localhost:8080/"
        },
        "id": "1V4xWQfliu_4",
        "outputId": "ba587a10-24cf-45c0-ae89-42370f229203"
      },
      "execution_count": null,
      "outputs": [
        {
          "output_type": "execute_result",
          "data": {
            "text/plain": [
              "Lasso(alpha=1)"
            ]
          },
          "metadata": {},
          "execution_count": 13
        }
      ]
    },
    {
      "cell_type": "markdown",
      "source": [
        "Onde `alpha` é o parâmetro de penalização dos coeficientes explicado no início.\n",
        "\n"
      ],
      "metadata": {
        "id": "CC1XEsAVjvl3"
      }
    },
    {
      "cell_type": "code",
      "source": [
        "#Aplicando o modelo aos dados de test e exibindo o resultado de R2\n",
        "resultadoLasso = modeloLasso.score(x_test, y_test)\n",
        "resultadoLasso"
      ],
      "metadata": {
        "colab": {
          "base_uri": "https://localhost:8080/"
        },
        "id": "IyCJ_ZpUjuIm",
        "outputId": "9c599a13-0df4-486b-9d12-59e85a3435b8"
      },
      "execution_count": null,
      "outputs": [
        {
          "output_type": "execute_result",
          "data": {
            "text/plain": [
              "0.2855728845758697"
            ]
          },
          "metadata": {},
          "execution_count": 14
        }
      ]
    },
    {
      "cell_type": "markdown",
      "source": [
        "## Aplicando Regressão Ridge"
      ],
      "metadata": {
        "id": "TDHarJCQkr9v"
      }
    },
    {
      "cell_type": "code",
      "source": [
        "# Importando biblioteca para a Regressão Ridge\n",
        "from sklearn.linear_model import Ridge\n",
        "\n",
        "# Criando o Modelo\n",
        "modeloRidge = Ridge(alpha=1)\n",
        "modeloRidge.fit(x_train, y_train)\n",
        "\n",
        "# Aplicando os modelos aos dados de test e exibindo o resultado de R2\n",
        "resultadoRidge = modeloRidge.score(x_test, y_test)\n",
        "resultadoRidge"
      ],
      "metadata": {
        "colab": {
          "base_uri": "https://localhost:8080/"
        },
        "id": "XpXC1kmSkyME",
        "outputId": "d07c4c54-739e-4050-acc7-7b3a02206b3b"
      },
      "execution_count": null,
      "outputs": [
        {
          "output_type": "execute_result",
          "data": {
            "text/plain": [
              "0.8085345281885281"
            ]
          },
          "metadata": {},
          "execution_count": 18
        }
      ]
    },
    {
      "cell_type": "markdown",
      "source": [
        "## Aplicando Regressão Elastic Net"
      ],
      "metadata": {
        "id": "0Jj7QG2QlftG"
      }
    },
    {
      "cell_type": "code",
      "source": [
        "# Importando biblioteca para a Regressão Elastic Net\n",
        "from sklearn.linear_model import ElasticNet\n",
        "\n",
        "# Criando o Modelo\n",
        "modeloElasticNet = ElasticNet(alpha=1, l1_ratio=0.5)\n",
        "modeloElasticNet.fit(x_train, y_train)"
      ],
      "metadata": {
        "colab": {
          "base_uri": "https://localhost:8080/"
        },
        "id": "OvNHPN7PmHA6",
        "outputId": "cc47477b-8af5-46a9-c611-91e17ddf18eb"
      },
      "execution_count": null,
      "outputs": [
        {
          "output_type": "execute_result",
          "data": {
            "text/plain": [
              "ElasticNet(alpha=1)"
            ]
          },
          "metadata": {},
          "execution_count": 20
        }
      ]
    },
    {
      "cell_type": "markdown",
      "source": [
        "O parâmetro `l1_ratio` é o peso que a regularização L1 vai receber. Neste caso está o *default* do modelo, que define 50% para a regularização L1, portando L2 tambem é 50% (L2 = 1 - 0,5 = 0,5)."
      ],
      "metadata": {
        "id": "SE4w_WjpnMD6"
      }
    },
    {
      "cell_type": "code",
      "source": [
        "# Aplicando o modelo aos dados de test e exibindo o resultado de R2\n",
        "resultadoEN = modeloElasticNet.score(x_test, y_test)\n",
        "resultadoEN"
      ],
      "metadata": {
        "colab": {
          "base_uri": "https://localhost:8080/"
        },
        "id": "HmhuTQGmo1Jj",
        "outputId": "d2e75f0a-d44e-479a-9065-45f6fff7c69b"
      },
      "execution_count": null,
      "outputs": [
        {
          "output_type": "execute_result",
          "data": {
            "text/plain": [
              "0.5647447563640624"
            ]
          },
          "metadata": {},
          "execution_count": 21
        }
      ]
    },
    {
      "cell_type": "markdown",
      "source": [
        "## Colocando todos os Modelos em um Função"
      ],
      "metadata": {
        "id": "7UoujlkSpXLQ"
      }
    },
    {
      "cell_type": "code",
      "source": [
        "# Criando um função que retorna os resultados de todos os modelos e qual modelo se saiu melhor\n",
        "def modelos_Regressao(x_train, x_test, y_train, y_test):\n",
        "  from sklearn.linear_model import LinearRegression, Ridge, Lasso, ElasticNet\n",
        "  #criando os modelos\n",
        "  modeloRegressaoLinear = LinearRegression()\n",
        "  modeloRidge           = Ridge()\n",
        "  modeloLasso           = Lasso()\n",
        "  modeloElasticNet      = ElasticNet()\n",
        "  #aplicando os modelos aos dados de treino\n",
        "  modeloRegressaoLinear.fit(x_train, y_train)\n",
        "  modeloRidge.fit(x_train, y_train)\n",
        "  modeloLasso.fit(x_train, y_train)\n",
        "  modeloElasticNet.fit(x_train, y_train)\n",
        "  #aplicando os modelos aos dados de test\n",
        "  resultadoRL    = modeloRegressaoLinear.score(x_test, y_test)\n",
        "  resultadoRidge = modeloRidge.score(x_test, y_test)\n",
        "  resultadoLasso = modeloLasso.score(x_test, y_test)\n",
        "  resultadoEN    = modeloElasticNet.score(x_test, y_test)\n",
        "  resultado = {'Regressão Linear':resultadoRL, 'Regressão Ridge':resultadoRidge,\n",
        "               'Regressão Lasso':resultadoLasso, 'Regressão Elastic Net':resultadoEN}\n",
        "  maior = max(resultado, key=resultado.get)\n",
        "  for n, v in resultado.items():\n",
        "    print(f'{n}: {v:.4f}')\n",
        "    print(30* '-')\n",
        "  print(f'\\nO melhor modelo foi a {maior} com resultado {resultado[maior]:.4f}')"
      ],
      "metadata": {
        "id": "6NMXOOSSplc_"
      },
      "execution_count": null,
      "outputs": []
    },
    {
      "cell_type": "code",
      "source": [
        "modelos_Regressao(x_train, x_test, y_train, y_test)"
      ],
      "metadata": {
        "colab": {
          "base_uri": "https://localhost:8080/"
        },
        "id": "SFLZCZYYqZHc",
        "outputId": "d577a7a8-69cb-457a-f832-cf7ab20ae775"
      },
      "execution_count": null,
      "outputs": [
        {
          "output_type": "stream",
          "name": "stdout",
          "text": [
            "Regressão Linear: 0.8093\n",
            "------------------------------\n",
            "Regressão Ridge: 0.8085\n",
            "------------------------------\n",
            "Regressão Lasso: 0.2856\n",
            "------------------------------\n",
            "Regressão Elastic Net: 0.5647\n",
            "------------------------------\n",
            "\n",
            "O melhor modelo foi a Regressão Linear com resultado 0.8093\n"
          ]
        }
      ]
    },
    {
      "cell_type": "markdown",
      "source": [
        "# Conclusão\n",
        "\n",
        "Além da Regressão Linear padrão, foi visto que existe termos que podem ser somados a Função de Custo que são chamados Regularização. A Regularização L1 adiciona o somatório do módulo do coeficiente de cada atributo. A Regularização L2 adiciona o somatório do quadrado de cada coeficiente. Já o Elastic Net junta L1 e L2 para somar à Função de Custo.\n",
        "\n",
        "A regularização pode tornar o modelo `generalista` evitando o *Overfitting*.\n",
        "\n",
        "Porém, usar uma regularização não significa que sempre seja melhor. Cada caso é um caso. É preciso comparar as regressões para ver qual apresenta o melhor resultado para o conjunto de dados.\n"
      ],
      "metadata": {
        "id": "gjrD_6zhrN0I"
      }
    }
  ]
}