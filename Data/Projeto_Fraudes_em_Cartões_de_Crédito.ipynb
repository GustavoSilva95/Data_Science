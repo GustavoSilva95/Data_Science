{
  "nbformat": 4,
  "nbformat_minor": 0,
  "metadata": {
    "colab": {
      "name": "Projeto Fraudes em Cartões de Crédito.ipynb",
      "provenance": [],
      "collapsed_sections": [],
      "authorship_tag": "ABX9TyP3yE+XgjGN5N01dd1cnDtl",
      "include_colab_link": true
    },
    "kernelspec": {
      "name": "python3",
      "display_name": "Python 3"
    },
    "language_info": {
      "name": "python"
    }
  },
  "cells": [
    {
      "cell_type": "markdown",
      "metadata": {
        "id": "view-in-github",
        "colab_type": "text"
      },
      "source": [
        "<a href=\"https://colab.research.google.com/github/GustavoSilva95/Data_Science/blob/main/Projeto_Fraudes_em_Cart%C3%B5es_de_Cr%C3%A9dito.ipynb\" target=\"_parent\"><img src=\"https://colab.research.google.com/assets/colab-badge.svg\" alt=\"Open In Colab\"/></a>"
      ]
    },
    {
      "cell_type": "markdown",
      "source": [
        "*by [Gustavo Silva](https://www.linkedin.com/in/gustavo-vinicius-silva)*\n",
        "\n",
        "---"
      ],
      "metadata": {
        "id": "akkKlD5F5_pe"
      }
    },
    {
      "cell_type": "markdown",
      "source": [
        "# **Projeto Data Science - *Fraudes em Cartões de Crédito***\n",
        "\n",
        "<center><img alt=\"Fraudes\" width=\"100%\" src=\"https://raw.githubusercontent.com/GustavoSilva95/Data_Science/main/Imagens/Detectando%20Fraudes%20em%20Cart%C3%B5es%20de%20Cr%C3%A9dito.png\"></center>\n",
        "\n",
        "\n",
        "\n",
        "O problema das fraudes em cartões de crédito é uma das principais preocupações das instituições financeiras como bancos e *fintechs*.\n",
        "\n",
        "A fraude de cartão de crédito ocorre quando uma pessoa **não autorizada** obtém acesso às informações do usuário e as usa para fazer compras. Muitas vezes esses crimes são cometidos por **quadrilhas especializadas** que buscam brechas em sistemas de segurança ou contam com o descuido do próprio usuário. Segundo o [**Mapa da Fraude**](https://iabbrasil.com.br/pesquisa-mapa-da-fraude-2021/), a chegada da pandemia mudou rapidamente os hábitos de consumo de bens e serviços, que passaram a acontecer quase que exclusivamente em **ambientes virtuais**, aumentando a incidência de tentativas de fraudes.\n",
        "\n",
        "Em eventual fraude comunicada pelo usuário, cabe a instituição analisar e cobrir o prejuízo. De modo a evitar essas perdas, as instituições utilizam sistemas de segurança que podem bloquear uma compra suspeita. Porém, se essa compra é legítima, esse procedimento pode causar estresse e constrangimento ao usuário.\n",
        "\n",
        "Diante disso, investimentos na área de detecção de fraudes através de **Inteligência Artificial** vem crescendo a cada ano, na tentativa de diminuir perdas com **transações fraudulentas** e melhorar a **satisfação do usuário**.\n",
        "\n",
        "Neste projeto, algoritmos de ***Machine Learning*** serão aplicados a esse problema e serão avaliados quanto a sua capacidade de previsão, buscando justamente a otimização entre reduzir as perdas pela instituição financeira e, ao mesmo tempo, evitar o bloqueio de uma compra legítima. \n",
        "\n"
      ],
      "metadata": {
        "id": "tcw8QGxKWchC"
      }
    },
    {
      "cell_type": "markdown",
      "source": [
        "# **Obtenção dos Dados**\n",
        "\n",
        "---\n",
        "\n",
        "O [conjunto de dados usado neste projeto](https://www.kaggle.com/mlg-ulb/creditcardfraud) contém transações feitas por cartões de crédito, que ocorreram no período de dois dias, por titulares de cartões europeus.\n",
        "\n",
        "Por questões ligadas à privacidade e segurança, foi aplicado uma transformação nos atributos originais, conhecida como **Análise de Componentes Principais** (Principal Component Analysis - PCA). A PCA é uma das técnicas mais comuns de redução de dimensionalidade. Reduzir a dimensionalidade significa diminuir o número de atributos (características, variáveis). O algoritmo de PCA faz a redução tentando preservar ao máximo a variância dos atributos.\n",
        "\n",
        "Assim, o algoritmo de PCA cria um sistema de atributos chamados **componentes**, onde cada componente é uma combinação linear dos atributos originais. Mais detalhes de como funciona o algoritmo de PCA podem ser encontrados [neste link](https://jakevdp.github.io/PythonDataScienceHandbook/05.09-principal-component-analysis.html).\n",
        "\n",
        "Portanto, para este conjunto de dados, os atributos V1, V2, … V28 são os principais componentes obtidos com PCA. As únicas características que não foram transformadas com PCA são `Time` e `Amount`. O atributo `Time` contém os segundos decorridos entre cada transação e a primeira transação no conjunto de dados. O recurso `Amount` é o valor da transação. Já o atributo `Class` é a variável de resposta e assume valor **1** em caso de fraude e **0** para transações autênticas. No total, o conjunto de dados possui **31 características** de aproximadamente **285 mil transações**."
      ],
      "metadata": {
        "id": "y3UYe50Ty-8_"
      }
    },
    {
      "cell_type": "code",
      "source": [
        "!pip install -q scikit-plot"
      ],
      "metadata": {
        "id": "HEG_wz_3KzAB"
      },
      "execution_count": 1,
      "outputs": []
    },
    {
      "cell_type": "code",
      "source": [
        "# Importando as Bibliotecas necessárias\n",
        "import pandas as pd\n",
        "import matplotlib.pyplot as plt\n",
        "import seaborn as sns\n",
        "import numpy as np\n",
        "import scikitplot as skplt\n",
        "from warnings import simplefilter\n",
        "simplefilter(action='ignore', category=FutureWarning)\n",
        "from sklearn.model_selection import train_test_split, GridSearchCV\n",
        "from sklearn.preprocessing import StandardScaler\n",
        "from sklearn.linear_model import LogisticRegression\n",
        "from sklearn.neighbors import KNeighborsClassifier\n",
        "from sklearn.tree import DecisionTreeClassifier\n",
        "from sklearn.metrics import confusion_matrix\n",
        "from sklearn.metrics import classification_report\n",
        "from sklearn.metrics import accuracy_score, roc_auc_score\n",
        "from imblearn.under_sampling import RandomUnderSampler\n",
        "from imblearn.pipeline import Pipeline"
      ],
      "metadata": {
        "id": "G67pdPs_I32s"
      },
      "execution_count": 2,
      "outputs": []
    },
    {
      "cell_type": "code",
      "source": [
        "# Importando o conjunto de dados e criando um DataFrame\n",
        "file_path = 'https://www.dropbox.com/s/b44o3t3ehmnx2b7/creditcard.csv?dl=1'\n",
        "df_credit = pd.read_csv(file_path)"
      ],
      "metadata": {
        "id": "ekxz-sinBrz-"
      },
      "execution_count": 3,
      "outputs": []
    },
    {
      "cell_type": "code",
      "source": [
        "# Tamanho do Dataset\n",
        "print('-' * 20)\n",
        "print('Tamanho do Dataset:')\n",
        "print('-' * 20)\n",
        "print(f'Entradas: {df_credit.shape[0]}')\n",
        "print(f'Variáveis: {df_credit.shape[1]}\\n')\n",
        "\n",
        "# Visualizando as 5 primeiras entradas\n",
        "df_credit.head()"
      ],
      "metadata": {
        "colab": {
          "base_uri": "https://localhost:8080/",
          "height": 374
        },
        "id": "QGvbpgSjB4EQ",
        "outputId": "b1e21933-b874-40ff-854c-4ccea04a83e4"
      },
      "execution_count": 4,
      "outputs": [
        {
          "output_type": "stream",
          "name": "stdout",
          "text": [
            "--------------------\n",
            "Tamanho do Dataset:\n",
            "--------------------\n",
            "Entradas: 284807\n",
            "Variáveis: 31\n",
            "\n"
          ]
        },
        {
          "output_type": "execute_result",
          "data": {
            "text/html": [
              "\n",
              "  <div id=\"df-568c51cf-9b2e-42d2-b72c-08da27904337\">\n",
              "    <div class=\"colab-df-container\">\n",
              "      <div>\n",
              "<style scoped>\n",
              "    .dataframe tbody tr th:only-of-type {\n",
              "        vertical-align: middle;\n",
              "    }\n",
              "\n",
              "    .dataframe tbody tr th {\n",
              "        vertical-align: top;\n",
              "    }\n",
              "\n",
              "    .dataframe thead th {\n",
              "        text-align: right;\n",
              "    }\n",
              "</style>\n",
              "<table border=\"1\" class=\"dataframe\">\n",
              "  <thead>\n",
              "    <tr style=\"text-align: right;\">\n",
              "      <th></th>\n",
              "      <th>Time</th>\n",
              "      <th>V1</th>\n",
              "      <th>V2</th>\n",
              "      <th>V3</th>\n",
              "      <th>V4</th>\n",
              "      <th>V5</th>\n",
              "      <th>V6</th>\n",
              "      <th>V7</th>\n",
              "      <th>V8</th>\n",
              "      <th>V9</th>\n",
              "      <th>V10</th>\n",
              "      <th>V11</th>\n",
              "      <th>V12</th>\n",
              "      <th>V13</th>\n",
              "      <th>V14</th>\n",
              "      <th>V15</th>\n",
              "      <th>V16</th>\n",
              "      <th>V17</th>\n",
              "      <th>V18</th>\n",
              "      <th>V19</th>\n",
              "      <th>V20</th>\n",
              "      <th>V21</th>\n",
              "      <th>V22</th>\n",
              "      <th>V23</th>\n",
              "      <th>V24</th>\n",
              "      <th>V25</th>\n",
              "      <th>V26</th>\n",
              "      <th>V27</th>\n",
              "      <th>V28</th>\n",
              "      <th>Amount</th>\n",
              "      <th>Class</th>\n",
              "    </tr>\n",
              "  </thead>\n",
              "  <tbody>\n",
              "    <tr>\n",
              "      <th>0</th>\n",
              "      <td>0.0</td>\n",
              "      <td>-1.359807</td>\n",
              "      <td>-0.072781</td>\n",
              "      <td>2.536347</td>\n",
              "      <td>1.378155</td>\n",
              "      <td>-0.338321</td>\n",
              "      <td>0.462388</td>\n",
              "      <td>0.239599</td>\n",
              "      <td>0.098698</td>\n",
              "      <td>0.363787</td>\n",
              "      <td>0.090794</td>\n",
              "      <td>-0.551600</td>\n",
              "      <td>-0.617801</td>\n",
              "      <td>-0.991390</td>\n",
              "      <td>-0.311169</td>\n",
              "      <td>1.468177</td>\n",
              "      <td>-0.470401</td>\n",
              "      <td>0.207971</td>\n",
              "      <td>0.025791</td>\n",
              "      <td>0.403993</td>\n",
              "      <td>0.251412</td>\n",
              "      <td>-0.018307</td>\n",
              "      <td>0.277838</td>\n",
              "      <td>-0.110474</td>\n",
              "      <td>0.066928</td>\n",
              "      <td>0.128539</td>\n",
              "      <td>-0.189115</td>\n",
              "      <td>0.133558</td>\n",
              "      <td>-0.021053</td>\n",
              "      <td>149.62</td>\n",
              "      <td>0</td>\n",
              "    </tr>\n",
              "    <tr>\n",
              "      <th>1</th>\n",
              "      <td>0.0</td>\n",
              "      <td>1.191857</td>\n",
              "      <td>0.266151</td>\n",
              "      <td>0.166480</td>\n",
              "      <td>0.448154</td>\n",
              "      <td>0.060018</td>\n",
              "      <td>-0.082361</td>\n",
              "      <td>-0.078803</td>\n",
              "      <td>0.085102</td>\n",
              "      <td>-0.255425</td>\n",
              "      <td>-0.166974</td>\n",
              "      <td>1.612727</td>\n",
              "      <td>1.065235</td>\n",
              "      <td>0.489095</td>\n",
              "      <td>-0.143772</td>\n",
              "      <td>0.635558</td>\n",
              "      <td>0.463917</td>\n",
              "      <td>-0.114805</td>\n",
              "      <td>-0.183361</td>\n",
              "      <td>-0.145783</td>\n",
              "      <td>-0.069083</td>\n",
              "      <td>-0.225775</td>\n",
              "      <td>-0.638672</td>\n",
              "      <td>0.101288</td>\n",
              "      <td>-0.339846</td>\n",
              "      <td>0.167170</td>\n",
              "      <td>0.125895</td>\n",
              "      <td>-0.008983</td>\n",
              "      <td>0.014724</td>\n",
              "      <td>2.69</td>\n",
              "      <td>0</td>\n",
              "    </tr>\n",
              "    <tr>\n",
              "      <th>2</th>\n",
              "      <td>1.0</td>\n",
              "      <td>-1.358354</td>\n",
              "      <td>-1.340163</td>\n",
              "      <td>1.773209</td>\n",
              "      <td>0.379780</td>\n",
              "      <td>-0.503198</td>\n",
              "      <td>1.800499</td>\n",
              "      <td>0.791461</td>\n",
              "      <td>0.247676</td>\n",
              "      <td>-1.514654</td>\n",
              "      <td>0.207643</td>\n",
              "      <td>0.624501</td>\n",
              "      <td>0.066084</td>\n",
              "      <td>0.717293</td>\n",
              "      <td>-0.165946</td>\n",
              "      <td>2.345865</td>\n",
              "      <td>-2.890083</td>\n",
              "      <td>1.109969</td>\n",
              "      <td>-0.121359</td>\n",
              "      <td>-2.261857</td>\n",
              "      <td>0.524980</td>\n",
              "      <td>0.247998</td>\n",
              "      <td>0.771679</td>\n",
              "      <td>0.909412</td>\n",
              "      <td>-0.689281</td>\n",
              "      <td>-0.327642</td>\n",
              "      <td>-0.139097</td>\n",
              "      <td>-0.055353</td>\n",
              "      <td>-0.059752</td>\n",
              "      <td>378.66</td>\n",
              "      <td>0</td>\n",
              "    </tr>\n",
              "    <tr>\n",
              "      <th>3</th>\n",
              "      <td>1.0</td>\n",
              "      <td>-0.966272</td>\n",
              "      <td>-0.185226</td>\n",
              "      <td>1.792993</td>\n",
              "      <td>-0.863291</td>\n",
              "      <td>-0.010309</td>\n",
              "      <td>1.247203</td>\n",
              "      <td>0.237609</td>\n",
              "      <td>0.377436</td>\n",
              "      <td>-1.387024</td>\n",
              "      <td>-0.054952</td>\n",
              "      <td>-0.226487</td>\n",
              "      <td>0.178228</td>\n",
              "      <td>0.507757</td>\n",
              "      <td>-0.287924</td>\n",
              "      <td>-0.631418</td>\n",
              "      <td>-1.059647</td>\n",
              "      <td>-0.684093</td>\n",
              "      <td>1.965775</td>\n",
              "      <td>-1.232622</td>\n",
              "      <td>-0.208038</td>\n",
              "      <td>-0.108300</td>\n",
              "      <td>0.005274</td>\n",
              "      <td>-0.190321</td>\n",
              "      <td>-1.175575</td>\n",
              "      <td>0.647376</td>\n",
              "      <td>-0.221929</td>\n",
              "      <td>0.062723</td>\n",
              "      <td>0.061458</td>\n",
              "      <td>123.50</td>\n",
              "      <td>0</td>\n",
              "    </tr>\n",
              "    <tr>\n",
              "      <th>4</th>\n",
              "      <td>2.0</td>\n",
              "      <td>-1.158233</td>\n",
              "      <td>0.877737</td>\n",
              "      <td>1.548718</td>\n",
              "      <td>0.403034</td>\n",
              "      <td>-0.407193</td>\n",
              "      <td>0.095921</td>\n",
              "      <td>0.592941</td>\n",
              "      <td>-0.270533</td>\n",
              "      <td>0.817739</td>\n",
              "      <td>0.753074</td>\n",
              "      <td>-0.822843</td>\n",
              "      <td>0.538196</td>\n",
              "      <td>1.345852</td>\n",
              "      <td>-1.119670</td>\n",
              "      <td>0.175121</td>\n",
              "      <td>-0.451449</td>\n",
              "      <td>-0.237033</td>\n",
              "      <td>-0.038195</td>\n",
              "      <td>0.803487</td>\n",
              "      <td>0.408542</td>\n",
              "      <td>-0.009431</td>\n",
              "      <td>0.798278</td>\n",
              "      <td>-0.137458</td>\n",
              "      <td>0.141267</td>\n",
              "      <td>-0.206010</td>\n",
              "      <td>0.502292</td>\n",
              "      <td>0.219422</td>\n",
              "      <td>0.215153</td>\n",
              "      <td>69.99</td>\n",
              "      <td>0</td>\n",
              "    </tr>\n",
              "  </tbody>\n",
              "</table>\n",
              "</div>\n",
              "      <button class=\"colab-df-convert\" onclick=\"convertToInteractive('df-568c51cf-9b2e-42d2-b72c-08da27904337')\"\n",
              "              title=\"Convert this dataframe to an interactive table.\"\n",
              "              style=\"display:none;\">\n",
              "        \n",
              "  <svg xmlns=\"http://www.w3.org/2000/svg\" height=\"24px\"viewBox=\"0 0 24 24\"\n",
              "       width=\"24px\">\n",
              "    <path d=\"M0 0h24v24H0V0z\" fill=\"none\"/>\n",
              "    <path d=\"M18.56 5.44l.94 2.06.94-2.06 2.06-.94-2.06-.94-.94-2.06-.94 2.06-2.06.94zm-11 1L8.5 8.5l.94-2.06 2.06-.94-2.06-.94L8.5 2.5l-.94 2.06-2.06.94zm10 10l.94 2.06.94-2.06 2.06-.94-2.06-.94-.94-2.06-.94 2.06-2.06.94z\"/><path d=\"M17.41 7.96l-1.37-1.37c-.4-.4-.92-.59-1.43-.59-.52 0-1.04.2-1.43.59L10.3 9.45l-7.72 7.72c-.78.78-.78 2.05 0 2.83L4 21.41c.39.39.9.59 1.41.59.51 0 1.02-.2 1.41-.59l7.78-7.78 2.81-2.81c.8-.78.8-2.07 0-2.86zM5.41 20L4 18.59l7.72-7.72 1.47 1.35L5.41 20z\"/>\n",
              "  </svg>\n",
              "      </button>\n",
              "      \n",
              "  <style>\n",
              "    .colab-df-container {\n",
              "      display:flex;\n",
              "      flex-wrap:wrap;\n",
              "      gap: 12px;\n",
              "    }\n",
              "\n",
              "    .colab-df-convert {\n",
              "      background-color: #E8F0FE;\n",
              "      border: none;\n",
              "      border-radius: 50%;\n",
              "      cursor: pointer;\n",
              "      display: none;\n",
              "      fill: #1967D2;\n",
              "      height: 32px;\n",
              "      padding: 0 0 0 0;\n",
              "      width: 32px;\n",
              "    }\n",
              "\n",
              "    .colab-df-convert:hover {\n",
              "      background-color: #E2EBFA;\n",
              "      box-shadow: 0px 1px 2px rgba(60, 64, 67, 0.3), 0px 1px 3px 1px rgba(60, 64, 67, 0.15);\n",
              "      fill: #174EA6;\n",
              "    }\n",
              "\n",
              "    [theme=dark] .colab-df-convert {\n",
              "      background-color: #3B4455;\n",
              "      fill: #D2E3FC;\n",
              "    }\n",
              "\n",
              "    [theme=dark] .colab-df-convert:hover {\n",
              "      background-color: #434B5C;\n",
              "      box-shadow: 0px 1px 3px 1px rgba(0, 0, 0, 0.15);\n",
              "      filter: drop-shadow(0px 1px 2px rgba(0, 0, 0, 0.3));\n",
              "      fill: #FFFFFF;\n",
              "    }\n",
              "  </style>\n",
              "\n",
              "      <script>\n",
              "        const buttonEl =\n",
              "          document.querySelector('#df-568c51cf-9b2e-42d2-b72c-08da27904337 button.colab-df-convert');\n",
              "        buttonEl.style.display =\n",
              "          google.colab.kernel.accessAllowed ? 'block' : 'none';\n",
              "\n",
              "        async function convertToInteractive(key) {\n",
              "          const element = document.querySelector('#df-568c51cf-9b2e-42d2-b72c-08da27904337');\n",
              "          const dataTable =\n",
              "            await google.colab.kernel.invokeFunction('convertToInteractive',\n",
              "                                                     [key], {});\n",
              "          if (!dataTable) return;\n",
              "\n",
              "          const docLinkHtml = 'Like what you see? Visit the ' +\n",
              "            '<a target=\"_blank\" href=https://colab.research.google.com/notebooks/data_table.ipynb>data table notebook</a>'\n",
              "            + ' to learn more about interactive tables.';\n",
              "          element.innerHTML = '';\n",
              "          dataTable['output_type'] = 'display_data';\n",
              "          await google.colab.output.renderOutput(dataTable, element);\n",
              "          const docLink = document.createElement('div');\n",
              "          docLink.innerHTML = docLinkHtml;\n",
              "          element.appendChild(docLink);\n",
              "        }\n",
              "      </script>\n",
              "    </div>\n",
              "  </div>\n",
              "  "
            ],
            "text/plain": [
              "   Time        V1        V2        V3  ...       V27       V28  Amount  Class\n",
              "0   0.0 -1.359807 -0.072781  2.536347  ...  0.133558 -0.021053  149.62      0\n",
              "1   0.0  1.191857  0.266151  0.166480  ... -0.008983  0.014724    2.69      0\n",
              "2   1.0 -1.358354 -1.340163  1.773209  ... -0.055353 -0.059752  378.66      0\n",
              "3   1.0 -0.966272 -0.185226  1.792993  ...  0.062723  0.061458  123.50      0\n",
              "4   2.0 -1.158233  0.877737  1.548718  ...  0.219422  0.215153   69.99      0\n",
              "\n",
              "[5 rows x 31 columns]"
            ]
          },
          "metadata": {},
          "execution_count": 4
        }
      ]
    },
    {
      "cell_type": "markdown",
      "source": [
        "# **Análise Exploratória**\n",
        "\n",
        "---\n",
        "\n",
        "Com os dados importado para dentro de uma estrutura *DataFrame*, pode-se iniciar a análise exploratória com a finalidade de examinar os dados e resumir suas principais características, para que posteriormente possa ser aplicado um tratamento adequado a esses dados."
      ],
      "metadata": {
        "id": "bVfn_kLWZmDo"
      }
    },
    {
      "cell_type": "markdown",
      "source": [
        "#### **Tipo dos Dados**"
      ],
      "metadata": {
        "id": "2oTmkfK1qnH3"
      }
    },
    {
      "cell_type": "code",
      "source": [
        "# Verificando o tipo dos dados de cada variável\n",
        "df_credit.dtypes"
      ],
      "metadata": {
        "colab": {
          "base_uri": "https://localhost:8080/"
        },
        "id": "0q644mnVLmps",
        "outputId": "d53603ef-8d08-4639-d18d-84820cea8e76"
      },
      "execution_count": null,
      "outputs": [
        {
          "output_type": "execute_result",
          "data": {
            "text/plain": [
              "Time      float64\n",
              "V1        float64\n",
              "V2        float64\n",
              "V3        float64\n",
              "V4        float64\n",
              "V5        float64\n",
              "V6        float64\n",
              "V7        float64\n",
              "V8        float64\n",
              "V9        float64\n",
              "V10       float64\n",
              "V11       float64\n",
              "V12       float64\n",
              "V13       float64\n",
              "V14       float64\n",
              "V15       float64\n",
              "V16       float64\n",
              "V17       float64\n",
              "V18       float64\n",
              "V19       float64\n",
              "V20       float64\n",
              "V21       float64\n",
              "V22       float64\n",
              "V23       float64\n",
              "V24       float64\n",
              "V25       float64\n",
              "V26       float64\n",
              "V27       float64\n",
              "V28       float64\n",
              "Amount    float64\n",
              "Class       int64\n",
              "dtype: object"
            ]
          },
          "metadata": {},
          "execution_count": 59
        }
      ]
    },
    {
      "cell_type": "markdown",
      "source": [
        "#### **Dados *Missing***"
      ],
      "metadata": {
        "id": "sAjXAA_Lq8LR"
      }
    },
    {
      "cell_type": "code",
      "source": [
        "# Verificando se há valores ausentes\n",
        "df_credit.isnull().sum()"
      ],
      "metadata": {
        "colab": {
          "base_uri": "https://localhost:8080/"
        },
        "id": "uYpiXHSsMEMi",
        "outputId": "d3f1a959-7a32-4991-82b6-52357f685d42"
      },
      "execution_count": null,
      "outputs": [
        {
          "output_type": "execute_result",
          "data": {
            "text/plain": [
              "Time      0\n",
              "V1        0\n",
              "V2        0\n",
              "V3        0\n",
              "V4        0\n",
              "V5        0\n",
              "V6        0\n",
              "V7        0\n",
              "V8        0\n",
              "V9        0\n",
              "V10       0\n",
              "V11       0\n",
              "V12       0\n",
              "V13       0\n",
              "V14       0\n",
              "V15       0\n",
              "V16       0\n",
              "V17       0\n",
              "V18       0\n",
              "V19       0\n",
              "V20       0\n",
              "V21       0\n",
              "V22       0\n",
              "V23       0\n",
              "V24       0\n",
              "V25       0\n",
              "V26       0\n",
              "V27       0\n",
              "V28       0\n",
              "Amount    0\n",
              "Class     0\n",
              "dtype: int64"
            ]
          },
          "metadata": {},
          "execution_count": 60
        }
      ]
    },
    {
      "cell_type": "markdown",
      "source": [
        "O *dataset* possui apenas atributos numéricos e não apresenta dados *missing* (faltantes). Portanto, isso indica que antes de ter sido submetido ao PCA, o *dataset* passou por um pré-processamento dos dados."
      ],
      "metadata": {
        "id": "60nMkXJ6kj5p"
      }
    },
    {
      "cell_type": "markdown",
      "source": [
        "#### **Resumo Estatístico**\n",
        "Com o resumo estatístico foi possível notar que:\n",
        "- Os atributos que passam pelo PCA (`V1`, `V2`, ... `V28`) estão em uma mesma ordem de grandeza. Já os atributos `Amount` e `Time` precisarão ser normalizados.\n",
        "- Outro ponto importante é o valor mínimo encontrado no atributo `Amount` ser 0 (zero), visto que esta variável indica o valor da transação. Não foi especificado o significado do valor da transação ser 0 e diante disso será necessário fazer uma análise mais detalhada para decidir como tratar esses dados.\n",
        "- Além disso, o atributo `Amount` apresenta claramente a presença de *outliers* (dados discrepantes), que também serão analisados.\n",
        " \n"
      ],
      "metadata": {
        "id": "Da97oo9_rOdv"
      }
    },
    {
      "cell_type": "code",
      "source": [
        "# Resumo estatístico do conjunto de dados\n",
        "df_credit.describe()"
      ],
      "metadata": {
        "colab": {
          "base_uri": "https://localhost:8080/",
          "height": 364
        },
        "id": "7ltRQEtWMraK",
        "outputId": "7cb19a44-8841-45a7-a6ff-30170cb72d7f"
      },
      "execution_count": null,
      "outputs": [
        {
          "output_type": "execute_result",
          "data": {
            "text/html": [
              "\n",
              "  <div id=\"df-a8e7b05c-aaca-4d45-a4e8-d8c0a19a1cb5\">\n",
              "    <div class=\"colab-df-container\">\n",
              "      <div>\n",
              "<style scoped>\n",
              "    .dataframe tbody tr th:only-of-type {\n",
              "        vertical-align: middle;\n",
              "    }\n",
              "\n",
              "    .dataframe tbody tr th {\n",
              "        vertical-align: top;\n",
              "    }\n",
              "\n",
              "    .dataframe thead th {\n",
              "        text-align: right;\n",
              "    }\n",
              "</style>\n",
              "<table border=\"1\" class=\"dataframe\">\n",
              "  <thead>\n",
              "    <tr style=\"text-align: right;\">\n",
              "      <th></th>\n",
              "      <th>Time</th>\n",
              "      <th>V1</th>\n",
              "      <th>V2</th>\n",
              "      <th>V3</th>\n",
              "      <th>V4</th>\n",
              "      <th>V5</th>\n",
              "      <th>V6</th>\n",
              "      <th>V7</th>\n",
              "      <th>V8</th>\n",
              "      <th>V9</th>\n",
              "      <th>V10</th>\n",
              "      <th>V11</th>\n",
              "      <th>V12</th>\n",
              "      <th>V13</th>\n",
              "      <th>V14</th>\n",
              "      <th>V15</th>\n",
              "      <th>V16</th>\n",
              "      <th>V17</th>\n",
              "      <th>V18</th>\n",
              "      <th>V19</th>\n",
              "      <th>V20</th>\n",
              "      <th>V21</th>\n",
              "      <th>V22</th>\n",
              "      <th>V23</th>\n",
              "      <th>V24</th>\n",
              "      <th>V25</th>\n",
              "      <th>V26</th>\n",
              "      <th>V27</th>\n",
              "      <th>V28</th>\n",
              "      <th>Amount</th>\n",
              "      <th>Class</th>\n",
              "    </tr>\n",
              "  </thead>\n",
              "  <tbody>\n",
              "    <tr>\n",
              "      <th>count</th>\n",
              "      <td>284807.000000</td>\n",
              "      <td>2.848070e+05</td>\n",
              "      <td>2.848070e+05</td>\n",
              "      <td>2.848070e+05</td>\n",
              "      <td>2.848070e+05</td>\n",
              "      <td>2.848070e+05</td>\n",
              "      <td>2.848070e+05</td>\n",
              "      <td>2.848070e+05</td>\n",
              "      <td>2.848070e+05</td>\n",
              "      <td>2.848070e+05</td>\n",
              "      <td>2.848070e+05</td>\n",
              "      <td>2.848070e+05</td>\n",
              "      <td>2.848070e+05</td>\n",
              "      <td>2.848070e+05</td>\n",
              "      <td>2.848070e+05</td>\n",
              "      <td>2.848070e+05</td>\n",
              "      <td>2.848070e+05</td>\n",
              "      <td>2.848070e+05</td>\n",
              "      <td>2.848070e+05</td>\n",
              "      <td>2.848070e+05</td>\n",
              "      <td>2.848070e+05</td>\n",
              "      <td>2.848070e+05</td>\n",
              "      <td>2.848070e+05</td>\n",
              "      <td>2.848070e+05</td>\n",
              "      <td>2.848070e+05</td>\n",
              "      <td>2.848070e+05</td>\n",
              "      <td>2.848070e+05</td>\n",
              "      <td>2.848070e+05</td>\n",
              "      <td>2.848070e+05</td>\n",
              "      <td>284807.000000</td>\n",
              "      <td>284807.000000</td>\n",
              "    </tr>\n",
              "    <tr>\n",
              "      <th>mean</th>\n",
              "      <td>94813.859575</td>\n",
              "      <td>3.918649e-15</td>\n",
              "      <td>5.682686e-16</td>\n",
              "      <td>-8.761736e-15</td>\n",
              "      <td>2.811118e-15</td>\n",
              "      <td>-1.552103e-15</td>\n",
              "      <td>2.040130e-15</td>\n",
              "      <td>-1.698953e-15</td>\n",
              "      <td>-1.893285e-16</td>\n",
              "      <td>-3.147640e-15</td>\n",
              "      <td>1.772925e-15</td>\n",
              "      <td>9.289524e-16</td>\n",
              "      <td>-1.803266e-15</td>\n",
              "      <td>1.674888e-15</td>\n",
              "      <td>1.475621e-15</td>\n",
              "      <td>3.501098e-15</td>\n",
              "      <td>1.392460e-15</td>\n",
              "      <td>-7.466538e-16</td>\n",
              "      <td>4.258754e-16</td>\n",
              "      <td>9.019919e-16</td>\n",
              "      <td>5.126845e-16</td>\n",
              "      <td>1.473120e-16</td>\n",
              "      <td>8.042109e-16</td>\n",
              "      <td>5.282512e-16</td>\n",
              "      <td>4.456271e-15</td>\n",
              "      <td>1.426896e-15</td>\n",
              "      <td>1.701640e-15</td>\n",
              "      <td>-3.662252e-16</td>\n",
              "      <td>-1.217809e-16</td>\n",
              "      <td>88.349619</td>\n",
              "      <td>0.001727</td>\n",
              "    </tr>\n",
              "    <tr>\n",
              "      <th>std</th>\n",
              "      <td>47488.145955</td>\n",
              "      <td>1.958696e+00</td>\n",
              "      <td>1.651309e+00</td>\n",
              "      <td>1.516255e+00</td>\n",
              "      <td>1.415869e+00</td>\n",
              "      <td>1.380247e+00</td>\n",
              "      <td>1.332271e+00</td>\n",
              "      <td>1.237094e+00</td>\n",
              "      <td>1.194353e+00</td>\n",
              "      <td>1.098632e+00</td>\n",
              "      <td>1.088850e+00</td>\n",
              "      <td>1.020713e+00</td>\n",
              "      <td>9.992014e-01</td>\n",
              "      <td>9.952742e-01</td>\n",
              "      <td>9.585956e-01</td>\n",
              "      <td>9.153160e-01</td>\n",
              "      <td>8.762529e-01</td>\n",
              "      <td>8.493371e-01</td>\n",
              "      <td>8.381762e-01</td>\n",
              "      <td>8.140405e-01</td>\n",
              "      <td>7.709250e-01</td>\n",
              "      <td>7.345240e-01</td>\n",
              "      <td>7.257016e-01</td>\n",
              "      <td>6.244603e-01</td>\n",
              "      <td>6.056471e-01</td>\n",
              "      <td>5.212781e-01</td>\n",
              "      <td>4.822270e-01</td>\n",
              "      <td>4.036325e-01</td>\n",
              "      <td>3.300833e-01</td>\n",
              "      <td>250.120109</td>\n",
              "      <td>0.041527</td>\n",
              "    </tr>\n",
              "    <tr>\n",
              "      <th>min</th>\n",
              "      <td>0.000000</td>\n",
              "      <td>-5.640751e+01</td>\n",
              "      <td>-7.271573e+01</td>\n",
              "      <td>-4.832559e+01</td>\n",
              "      <td>-5.683171e+00</td>\n",
              "      <td>-1.137433e+02</td>\n",
              "      <td>-2.616051e+01</td>\n",
              "      <td>-4.355724e+01</td>\n",
              "      <td>-7.321672e+01</td>\n",
              "      <td>-1.343407e+01</td>\n",
              "      <td>-2.458826e+01</td>\n",
              "      <td>-4.797473e+00</td>\n",
              "      <td>-1.868371e+01</td>\n",
              "      <td>-5.791881e+00</td>\n",
              "      <td>-1.921433e+01</td>\n",
              "      <td>-4.498945e+00</td>\n",
              "      <td>-1.412985e+01</td>\n",
              "      <td>-2.516280e+01</td>\n",
              "      <td>-9.498746e+00</td>\n",
              "      <td>-7.213527e+00</td>\n",
              "      <td>-5.449772e+01</td>\n",
              "      <td>-3.483038e+01</td>\n",
              "      <td>-1.093314e+01</td>\n",
              "      <td>-4.480774e+01</td>\n",
              "      <td>-2.836627e+00</td>\n",
              "      <td>-1.029540e+01</td>\n",
              "      <td>-2.604551e+00</td>\n",
              "      <td>-2.256568e+01</td>\n",
              "      <td>-1.543008e+01</td>\n",
              "      <td>0.000000</td>\n",
              "      <td>0.000000</td>\n",
              "    </tr>\n",
              "    <tr>\n",
              "      <th>25%</th>\n",
              "      <td>54201.500000</td>\n",
              "      <td>-9.203734e-01</td>\n",
              "      <td>-5.985499e-01</td>\n",
              "      <td>-8.903648e-01</td>\n",
              "      <td>-8.486401e-01</td>\n",
              "      <td>-6.915971e-01</td>\n",
              "      <td>-7.682956e-01</td>\n",
              "      <td>-5.540759e-01</td>\n",
              "      <td>-2.086297e-01</td>\n",
              "      <td>-6.430976e-01</td>\n",
              "      <td>-5.354257e-01</td>\n",
              "      <td>-7.624942e-01</td>\n",
              "      <td>-4.055715e-01</td>\n",
              "      <td>-6.485393e-01</td>\n",
              "      <td>-4.255740e-01</td>\n",
              "      <td>-5.828843e-01</td>\n",
              "      <td>-4.680368e-01</td>\n",
              "      <td>-4.837483e-01</td>\n",
              "      <td>-4.988498e-01</td>\n",
              "      <td>-4.562989e-01</td>\n",
              "      <td>-2.117214e-01</td>\n",
              "      <td>-2.283949e-01</td>\n",
              "      <td>-5.423504e-01</td>\n",
              "      <td>-1.618463e-01</td>\n",
              "      <td>-3.545861e-01</td>\n",
              "      <td>-3.171451e-01</td>\n",
              "      <td>-3.269839e-01</td>\n",
              "      <td>-7.083953e-02</td>\n",
              "      <td>-5.295979e-02</td>\n",
              "      <td>5.600000</td>\n",
              "      <td>0.000000</td>\n",
              "    </tr>\n",
              "    <tr>\n",
              "      <th>50%</th>\n",
              "      <td>84692.000000</td>\n",
              "      <td>1.810880e-02</td>\n",
              "      <td>6.548556e-02</td>\n",
              "      <td>1.798463e-01</td>\n",
              "      <td>-1.984653e-02</td>\n",
              "      <td>-5.433583e-02</td>\n",
              "      <td>-2.741871e-01</td>\n",
              "      <td>4.010308e-02</td>\n",
              "      <td>2.235804e-02</td>\n",
              "      <td>-5.142873e-02</td>\n",
              "      <td>-9.291738e-02</td>\n",
              "      <td>-3.275735e-02</td>\n",
              "      <td>1.400326e-01</td>\n",
              "      <td>-1.356806e-02</td>\n",
              "      <td>5.060132e-02</td>\n",
              "      <td>4.807155e-02</td>\n",
              "      <td>6.641332e-02</td>\n",
              "      <td>-6.567575e-02</td>\n",
              "      <td>-3.636312e-03</td>\n",
              "      <td>3.734823e-03</td>\n",
              "      <td>-6.248109e-02</td>\n",
              "      <td>-2.945017e-02</td>\n",
              "      <td>6.781943e-03</td>\n",
              "      <td>-1.119293e-02</td>\n",
              "      <td>4.097606e-02</td>\n",
              "      <td>1.659350e-02</td>\n",
              "      <td>-5.213911e-02</td>\n",
              "      <td>1.342146e-03</td>\n",
              "      <td>1.124383e-02</td>\n",
              "      <td>22.000000</td>\n",
              "      <td>0.000000</td>\n",
              "    </tr>\n",
              "    <tr>\n",
              "      <th>75%</th>\n",
              "      <td>139320.500000</td>\n",
              "      <td>1.315642e+00</td>\n",
              "      <td>8.037239e-01</td>\n",
              "      <td>1.027196e+00</td>\n",
              "      <td>7.433413e-01</td>\n",
              "      <td>6.119264e-01</td>\n",
              "      <td>3.985649e-01</td>\n",
              "      <td>5.704361e-01</td>\n",
              "      <td>3.273459e-01</td>\n",
              "      <td>5.971390e-01</td>\n",
              "      <td>4.539234e-01</td>\n",
              "      <td>7.395934e-01</td>\n",
              "      <td>6.182380e-01</td>\n",
              "      <td>6.625050e-01</td>\n",
              "      <td>4.931498e-01</td>\n",
              "      <td>6.488208e-01</td>\n",
              "      <td>5.232963e-01</td>\n",
              "      <td>3.996750e-01</td>\n",
              "      <td>5.008067e-01</td>\n",
              "      <td>4.589494e-01</td>\n",
              "      <td>1.330408e-01</td>\n",
              "      <td>1.863772e-01</td>\n",
              "      <td>5.285536e-01</td>\n",
              "      <td>1.476421e-01</td>\n",
              "      <td>4.395266e-01</td>\n",
              "      <td>3.507156e-01</td>\n",
              "      <td>2.409522e-01</td>\n",
              "      <td>9.104512e-02</td>\n",
              "      <td>7.827995e-02</td>\n",
              "      <td>77.165000</td>\n",
              "      <td>0.000000</td>\n",
              "    </tr>\n",
              "    <tr>\n",
              "      <th>max</th>\n",
              "      <td>172792.000000</td>\n",
              "      <td>2.454930e+00</td>\n",
              "      <td>2.205773e+01</td>\n",
              "      <td>9.382558e+00</td>\n",
              "      <td>1.687534e+01</td>\n",
              "      <td>3.480167e+01</td>\n",
              "      <td>7.330163e+01</td>\n",
              "      <td>1.205895e+02</td>\n",
              "      <td>2.000721e+01</td>\n",
              "      <td>1.559499e+01</td>\n",
              "      <td>2.374514e+01</td>\n",
              "      <td>1.201891e+01</td>\n",
              "      <td>7.848392e+00</td>\n",
              "      <td>7.126883e+00</td>\n",
              "      <td>1.052677e+01</td>\n",
              "      <td>8.877742e+00</td>\n",
              "      <td>1.731511e+01</td>\n",
              "      <td>9.253526e+00</td>\n",
              "      <td>5.041069e+00</td>\n",
              "      <td>5.591971e+00</td>\n",
              "      <td>3.942090e+01</td>\n",
              "      <td>2.720284e+01</td>\n",
              "      <td>1.050309e+01</td>\n",
              "      <td>2.252841e+01</td>\n",
              "      <td>4.584549e+00</td>\n",
              "      <td>7.519589e+00</td>\n",
              "      <td>3.517346e+00</td>\n",
              "      <td>3.161220e+01</td>\n",
              "      <td>3.384781e+01</td>\n",
              "      <td>25691.160000</td>\n",
              "      <td>1.000000</td>\n",
              "    </tr>\n",
              "  </tbody>\n",
              "</table>\n",
              "</div>\n",
              "      <button class=\"colab-df-convert\" onclick=\"convertToInteractive('df-a8e7b05c-aaca-4d45-a4e8-d8c0a19a1cb5')\"\n",
              "              title=\"Convert this dataframe to an interactive table.\"\n",
              "              style=\"display:none;\">\n",
              "        \n",
              "  <svg xmlns=\"http://www.w3.org/2000/svg\" height=\"24px\"viewBox=\"0 0 24 24\"\n",
              "       width=\"24px\">\n",
              "    <path d=\"M0 0h24v24H0V0z\" fill=\"none\"/>\n",
              "    <path d=\"M18.56 5.44l.94 2.06.94-2.06 2.06-.94-2.06-.94-.94-2.06-.94 2.06-2.06.94zm-11 1L8.5 8.5l.94-2.06 2.06-.94-2.06-.94L8.5 2.5l-.94 2.06-2.06.94zm10 10l.94 2.06.94-2.06 2.06-.94-2.06-.94-.94-2.06-.94 2.06-2.06.94z\"/><path d=\"M17.41 7.96l-1.37-1.37c-.4-.4-.92-.59-1.43-.59-.52 0-1.04.2-1.43.59L10.3 9.45l-7.72 7.72c-.78.78-.78 2.05 0 2.83L4 21.41c.39.39.9.59 1.41.59.51 0 1.02-.2 1.41-.59l7.78-7.78 2.81-2.81c.8-.78.8-2.07 0-2.86zM5.41 20L4 18.59l7.72-7.72 1.47 1.35L5.41 20z\"/>\n",
              "  </svg>\n",
              "      </button>\n",
              "      \n",
              "  <style>\n",
              "    .colab-df-container {\n",
              "      display:flex;\n",
              "      flex-wrap:wrap;\n",
              "      gap: 12px;\n",
              "    }\n",
              "\n",
              "    .colab-df-convert {\n",
              "      background-color: #E8F0FE;\n",
              "      border: none;\n",
              "      border-radius: 50%;\n",
              "      cursor: pointer;\n",
              "      display: none;\n",
              "      fill: #1967D2;\n",
              "      height: 32px;\n",
              "      padding: 0 0 0 0;\n",
              "      width: 32px;\n",
              "    }\n",
              "\n",
              "    .colab-df-convert:hover {\n",
              "      background-color: #E2EBFA;\n",
              "      box-shadow: 0px 1px 2px rgba(60, 64, 67, 0.3), 0px 1px 3px 1px rgba(60, 64, 67, 0.15);\n",
              "      fill: #174EA6;\n",
              "    }\n",
              "\n",
              "    [theme=dark] .colab-df-convert {\n",
              "      background-color: #3B4455;\n",
              "      fill: #D2E3FC;\n",
              "    }\n",
              "\n",
              "    [theme=dark] .colab-df-convert:hover {\n",
              "      background-color: #434B5C;\n",
              "      box-shadow: 0px 1px 3px 1px rgba(0, 0, 0, 0.15);\n",
              "      filter: drop-shadow(0px 1px 2px rgba(0, 0, 0, 0.3));\n",
              "      fill: #FFFFFF;\n",
              "    }\n",
              "  </style>\n",
              "\n",
              "      <script>\n",
              "        const buttonEl =\n",
              "          document.querySelector('#df-a8e7b05c-aaca-4d45-a4e8-d8c0a19a1cb5 button.colab-df-convert');\n",
              "        buttonEl.style.display =\n",
              "          google.colab.kernel.accessAllowed ? 'block' : 'none';\n",
              "\n",
              "        async function convertToInteractive(key) {\n",
              "          const element = document.querySelector('#df-a8e7b05c-aaca-4d45-a4e8-d8c0a19a1cb5');\n",
              "          const dataTable =\n",
              "            await google.colab.kernel.invokeFunction('convertToInteractive',\n",
              "                                                     [key], {});\n",
              "          if (!dataTable) return;\n",
              "\n",
              "          const docLinkHtml = 'Like what you see? Visit the ' +\n",
              "            '<a target=\"_blank\" href=https://colab.research.google.com/notebooks/data_table.ipynb>data table notebook</a>'\n",
              "            + ' to learn more about interactive tables.';\n",
              "          element.innerHTML = '';\n",
              "          dataTable['output_type'] = 'display_data';\n",
              "          await google.colab.output.renderOutput(dataTable, element);\n",
              "          const docLink = document.createElement('div');\n",
              "          docLink.innerHTML = docLinkHtml;\n",
              "          element.appendChild(docLink);\n",
              "        }\n",
              "      </script>\n",
              "    </div>\n",
              "  </div>\n",
              "  "
            ],
            "text/plain": [
              "                Time            V1  ...         Amount          Class\n",
              "count  284807.000000  2.848070e+05  ...  284807.000000  284807.000000\n",
              "mean    94813.859575  3.918649e-15  ...      88.349619       0.001727\n",
              "std     47488.145955  1.958696e+00  ...     250.120109       0.041527\n",
              "min         0.000000 -5.640751e+01  ...       0.000000       0.000000\n",
              "25%     54201.500000 -9.203734e-01  ...       5.600000       0.000000\n",
              "50%     84692.000000  1.810880e-02  ...      22.000000       0.000000\n",
              "75%    139320.500000  1.315642e+00  ...      77.165000       0.000000\n",
              "max    172792.000000  2.454930e+00  ...   25691.160000       1.000000\n",
              "\n",
              "[8 rows x 31 columns]"
            ]
          },
          "metadata": {},
          "execution_count": 61
        }
      ]
    },
    {
      "cell_type": "markdown",
      "source": [
        "#### **Analisando Valores de Transação**"
      ],
      "metadata": {
        "id": "pUheZpUz_EER"
      }
    },
    {
      "cell_type": "code",
      "source": [
        "# Quantidade de Transações com valor 0\n",
        "zero = (df_credit['Amount'] == 0).sum()\n",
        "print('-'*27)\n",
        "print('  Transações com valor 0')\n",
        "print('-'*27)\n",
        "print(f'Quantidade Absoluta: {zero}')\n",
        "print(f'Quantidade Relativa: {(zero / df_credit.shape[0])*100:.2f}%')"
      ],
      "metadata": {
        "colab": {
          "base_uri": "https://localhost:8080/"
        },
        "id": "jz_Sn_xCAWZh",
        "outputId": "9d4eefab-354f-4b66-b3ac-49f62cec6002"
      },
      "execution_count": null,
      "outputs": [
        {
          "output_type": "stream",
          "name": "stdout",
          "text": [
            "---------------------------\n",
            "  Transações com valor 0\n",
            "---------------------------\n",
            "Quantidade Absoluta: 1825\n",
            "Quantidade Relativa: 0.64%\n"
          ]
        }
      ]
    },
    {
      "cell_type": "markdown",
      "source": [
        "É possível notar que a quantidade de transações registradas como 0 é muito pequena em relação ao conjunto de dados. São 1825 registros com transações de 0, representando apenas 0.64% de todo o *dataset*. Como a quantidade é irrelevante e o fato de não haver informações disponíveis sobre o significado de 0 para esse atributo, esses dados serão mantidos com o valor 0."
      ],
      "metadata": {
        "id": "Gwss0Pr1WzAj"
      }
    },
    {
      "cell_type": "markdown",
      "source": [
        "#### **Analisando *Outliers***\n",
        "\n",
        "Através do resumo estatístico do atributo `Amount` separando as transações autênticas e fraudulentas é possível notar a diferença em relação a média, mediana e os *outliers* de ambas as classes."
      ],
      "metadata": {
        "id": "SL7EIbSWLa56"
      }
    },
    {
      "cell_type": "code",
      "source": [
        "# Resumo estatístico do atributo Amount referente a transações autênticas\n",
        "df_credit['Amount'][df_credit['Class']==0].describe().round(2)"
      ],
      "metadata": {
        "colab": {
          "base_uri": "https://localhost:8080/"
        },
        "id": "gTFgpEqLLw8U",
        "outputId": "92ecca10-75d3-48f5-969e-439950c1419f"
      },
      "execution_count": null,
      "outputs": [
        {
          "output_type": "execute_result",
          "data": {
            "text/plain": [
              "count    284315.00\n",
              "mean         88.29\n",
              "std         250.11\n",
              "min           0.00\n",
              "25%           5.65\n",
              "50%          22.00\n",
              "75%          77.05\n",
              "max       25691.16\n",
              "Name: Amount, dtype: float64"
            ]
          },
          "metadata": {},
          "execution_count": 63
        }
      ]
    },
    {
      "cell_type": "code",
      "source": [
        "# Resumo estatístico do atributo Amount referente a transações fraudulentas\n",
        "df_credit['Amount'][df_credit['Class']==1].describe().round(2)"
      ],
      "metadata": {
        "colab": {
          "base_uri": "https://localhost:8080/"
        },
        "id": "AgiLAr-uMo1B",
        "outputId": "7f670723-dfc0-4bb6-d750-036b90fa3cd8"
      },
      "execution_count": null,
      "outputs": [
        {
          "output_type": "execute_result",
          "data": {
            "text/plain": [
              "count     492.00\n",
              "mean      122.21\n",
              "std       256.68\n",
              "min         0.00\n",
              "25%         1.00\n",
              "50%         9.25\n",
              "75%       105.89\n",
              "max      2125.87\n",
              "Name: Amount, dtype: float64"
            ]
          },
          "metadata": {},
          "execution_count": 64
        }
      ]
    },
    {
      "cell_type": "code",
      "source": [
        "cor = {classe: \"darkgreen\" if classe == 0 else \"darkred\" for classe in df_credit['Class'].unique()}\n",
        "fig, ax = plt.subplots(figsize=(14, 8))\n",
        "sns.set_style('white')\n",
        "\n",
        "sns.boxplot(df_credit.Class, df_credit.Amount, showmeans=True, palette=cor, ax=ax)\n",
        "plt.ylim((-20, 300))\n",
        "plt.xticks([0, 1], ['Autêntica', 'Fraude'], fontsize=15)\n",
        "ax.set_title('BOXPLOT DAS CLASSES',fontsize=24, color='darkgray', weight='bold')\n",
        "\n",
        "\n",
        "ax.spines['top'].set_visible(False)\n",
        "ax.spines['right'].set_visible(False)\n",
        "ax.spines['left'].set_visible(False)\n",
        "ax.spines['bottom'].set_visible(False)\n",
        "ax.grid(axis='y', linestyle='dotted')\n",
        "\n",
        "plt.tight_layout()"
      ],
      "metadata": {
        "colab": {
          "base_uri": "https://localhost:8080/",
          "height": 585
        },
        "id": "dlWeuXcwh2aS",
        "outputId": "97e81bd6-e837-41de-b2f0-071217fb2a11"
      },
      "execution_count": 6,
      "outputs": [
        {
          "output_type": "display_data",
          "data": {
            "image/png": "[encoded data removed]",
            "text/plain": [
              "<Figure size 1008x576 with 1 Axes>"
            ]
          },
          "metadata": {}
        }
      ]
    },
    {
      "cell_type": "code",
      "source": [
        "# Média das transações\n",
        "media_autentica = df_credit['Amount'][df_credit['Class']==0].mean()\n",
        "media_fraude    = df_credit['Amount'][df_credit['Class']==1].mean()\n",
        "\n",
        "fig, (ax1, ax2) = plt.subplots(nrows=1, ncols=2, figsize=(14, 3))\n",
        "fig.text(x= 0.35, y= 0.9 ,s='MÉDIA DAS TRANSAÇÕES',\n",
        "        fontsize=24, color='darkgray', weight='bold')\n",
        "ax1.text(x= 0.35, y= 0.7 ,s='AUTÊNTICAS',\n",
        "        fontsize=20, color='gray', weight='bold')\n",
        "ax1.text(x= 0.2, y= 0.3 ,s=f'€ {media_autentica:.2f}', fontsize=55, color='darkgreen', weight='bold')\n",
        "\n",
        "ax1.set_yticklabels([])\n",
        "ax1.set_yticks([])\n",
        "ax1.set_xticklabels([])\n",
        "ax1.set_xticks([])\n",
        "ax1.spines['top'].set_visible(False)\n",
        "ax1.spines['right'].set_visible(False)\n",
        "ax1.spines['left'].set_visible(False)\n",
        "ax1.spines['bottom'].set_visible(False)\n",
        "\n",
        "ax2.text(x= 0.15, y= 0.7 ,s='FRAUDULENTAS',\n",
        "        fontsize=20, color='gray', weight='bold')\n",
        "ax2.text(x= 0.03, y= 0.3 ,s=f'€ {media_fraude:.2f}', fontsize=55, color='darkred', weight='bold')\n",
        "\n",
        "ax2.set_yticklabels([])\n",
        "ax2.set_yticks([])\n",
        "ax2.set_xticklabels([])\n",
        "ax2.set_xticks([])\n",
        "ax2.spines['top'].set_visible(False)\n",
        "ax2.spines['right'].set_visible(False)\n",
        "ax2.spines['left'].set_visible(False)\n",
        "ax2.spines['bottom'].set_visible(False)"
      ],
      "metadata": {
        "colab": {
          "base_uri": "https://localhost:8080/",
          "height": 222
        },
        "id": "rJVxG4hqRVGY",
        "outputId": "2f6ae765-abff-425d-af68-a3fe286f2df5"
      },
      "execution_count": null,
      "outputs": [
        {
          "output_type": "display_data",
          "data": {
            "image/png": "[encoded data removed]",
            "text/plain": [
              "<Figure size 1008x216 with 2 Axes>"
            ]
          },
          "metadata": {}
        }
      ]
    },
    {
      "cell_type": "code",
      "source": [
        "# Transação de maior valor\n",
        "maior_autentica = df_credit['Amount'][df_credit['Class']==0].max()\n",
        "maior_fraude    = df_credit['Amount'][df_credit['Class']==1].max()\n",
        "\n",
        "fig, (ax1, ax2) = plt.subplots(nrows=1, ncols=2, figsize=(14, 3))\n",
        "fig.text(x= 0.31, y= 0.9 ,s='TRANSAÇÃO DE MAIOR VALOR',\n",
        "        fontsize=24, color='darkgray', weight='bold')\n",
        "ax1.text(x= 0.37, y= 0.7 ,s='AUTÊNTICA',\n",
        "        fontsize=20, color='gray', weight='bold')\n",
        "ax1.text(x= 0.2, y= 0.3 ,s=f'€ {maior_autentica:.0f}', fontsize=55, color='darkgreen', weight='bold')\n",
        "\n",
        "ax1.set_yticklabels([])\n",
        "ax1.set_yticks([])\n",
        "ax1.set_xticklabels([])\n",
        "ax1.set_xticks([])\n",
        "ax1.spines['top'].set_visible(False)\n",
        "ax1.spines['right'].set_visible(False)\n",
        "ax1.spines['left'].set_visible(False)\n",
        "ax1.spines['bottom'].set_visible(False)\n",
        "\n",
        "ax2.text(x= 0.16, y= 0.7 ,s='FRAUDULENTA',\n",
        "        fontsize=20, color='gray', weight='bold')\n",
        "ax2.text(x= 0.1, y= 0.3 ,s=f'€ {maior_fraude:.0f}', fontsize=55, color='darkred', weight='bold')\n",
        "\n",
        "ax2.set_yticklabels([])\n",
        "ax2.set_yticks([])\n",
        "ax2.set_xticklabels([])\n",
        "ax2.set_xticks([])\n",
        "ax2.spines['top'].set_visible(False)\n",
        "ax2.spines['right'].set_visible(False)\n",
        "ax2.spines['left'].set_visible(False)\n",
        "ax2.spines['bottom'].set_visible(False)"
      ],
      "metadata": {
        "colab": {
          "base_uri": "https://localhost:8080/",
          "height": 221
        },
        "id": "lYZgLu-ob8Ah",
        "outputId": "acb9c2ea-5706-4b01-b936-e0338342d44f"
      },
      "execution_count": 9,
      "outputs": [
        {
          "output_type": "display_data",
          "data": {
            "image/png": "[encoded data removed]",
            "text/plain": [
              "<Figure size 1008x216 with 2 Axes>"
            ]
          },
          "metadata": {}
        }
      ]
    },
    {
      "cell_type": "markdown",
      "source": [
        "Apesar de a média das transações fraudulentas ser maior, os maiores valores para o atributo `Amount` estão ocorrendo em transações autênticas. Desta forma, a princípio esses valores discrepantes, ao serem **normalizados**, podem contribuir para o treinamento do modelo."
      ],
      "metadata": {
        "id": "ALYdgzortMRh"
      }
    },
    {
      "cell_type": "markdown",
      "source": [
        "#### **Dados Desbalanceados**\n",
        "\n",
        "Outro ponto que chamou atenção no resumo estatístico separado por classes foi a diferença na quantidade de transações em cada uma das classes, fazendo com que o conjunto de dados fique desbalanceado.\n",
        "O desbalanceamento é comum em datasets como esse que registram fraudes, visto que existem muito mais transações autênticas no cotidiano do que as fraudulentas.\n"
      ],
      "metadata": {
        "id": "9cQ1wlcsi-g3"
      }
    },
    {
      "cell_type": "code",
      "source": [
        "fig, ax = plt.subplots(figsize=(14, 8))\n",
        "sns.countplot(df_credit['Class'], palette=cor)\n",
        "\n",
        "autenticas = '{:,}'.format(int((df_credit.Class ==0).sum())).replace(',','.')\n",
        "fraudes    = '{:,}'.format(int((df_credit.Class ==1).sum())).replace(',','.')\n",
        "\n",
        "fig.text(x= 0.162 , y= 0.9 , s='BALANCEAMENTO DO CONJUNTO DE DADOS',\n",
        "        fontsize=24, color='darkgray', weight='bold')\n",
        "fig.text(x= 0.162 , y= 0.865 , s=f'Foram registadas {autenticas} transações autenticas',\n",
        "        fontsize=15, color='gray')\n",
        "fig.text(x= 0.162 , y= 0.835 , s=f'e {fraudes} transações fraudulentas.',\n",
        "        fontsize=15, color='gray')\n",
        "fig.text(x= 0.162 , y= 0.805 , s='Fraudes representam 0.1727% do dataset.',\n",
        "        fontsize=15, color='gray')\n",
        "\n",
        "fig.text(x= 0.27 , y= 0.73 , s=autenticas,\n",
        "        fontsize=20, color='gray', weight='bold')\n",
        "fig.text(x= 0.685 , y= 0.15 , s=fraudes,\n",
        "        fontsize=20, color='gray', weight='bold')\n",
        "\n",
        "ax.set_ylim(0, 360000)\n",
        "ax.set_ylabel(None)\n",
        "ax.set_xlabel(None)\n",
        "ax.set_yticklabels([])\n",
        "ax.set_yticks([])\n",
        "ax.set_xticklabels(['AUTÊNTICA', 'FRAUDE'], fontsize=20, color='darkgray', weight='bold')\n",
        "ax.spines['top'].set_visible(False)\n",
        "ax.spines['right'].set_visible(False)\n",
        "ax.spines['left'].set_visible(False)\n",
        "ax.spines['bottom'].set_visible(False)"
      ],
      "metadata": {
        "colab": {
          "base_uri": "https://localhost:8080/",
          "height": 522
        },
        "id": "3skumKdvlMjN",
        "outputId": "a581ae23-2fc1-4dec-ae83-b73bffa0f040"
      },
      "execution_count": 10,
      "outputs": [
        {
          "output_type": "display_data",
          "data": {
            "image/png": "[encoded data removed]",
            "text/plain": [
              "<Figure size 1008x576 with 1 Axes>"
            ]
          },
          "metadata": {}
        }
      ]
    },
    {
      "cell_type": "markdown",
      "source": [
        ""
      ],
      "metadata": {
        "id": "x7cU-r_8xwt6"
      }
    },
    {
      "cell_type": "markdown",
      "source": [
        "O balanceamento dos dados será tratado com mais detalhes durante a etapa de pré-processamento."
      ],
      "metadata": {
        "id": "tclwJMmOUMlJ"
      }
    },
    {
      "cell_type": "markdown",
      "source": [
        "# **Pré-processamento dos Dados**\n",
        "\n",
        "---\n",
        "\n",
        "Obtida as principais características do conjunto de dados, dá-se início a etapa onde será aplicado os tratamentos necessários identificados durante a análise exploratória, além da definição das variáveis preditoras e a separação dos dados em treino e teste. O propósito é de preparar o conjunto de dados para a aplicação dos algoritmos de *Machine Learning*, que geralmente são afetados pelo estado dos dados.\n",
        "\n",
        "Além disso, foi usado ***Pipeline*** para que o pré-processamento pudesse ser aplicado com a função ***GridSearchCV*** (será mencionado mais a frente). Por conta disso, algumas etapas do pré-processamento, como balanceamento e normalização, serão aplicadas durante o ajuste dos algoritmos e posteriormente serão aplicadas novamente antes da criação dos modelos finais. Isso é feito para que não haja vazamento de dados no uso do *GridSearchCV*. Esse processo é abordado detalhadamente [neste artigo]( https://machinelearningmastery.com/data-preparation-without-data-leakage/)."
      ],
      "metadata": {
        "id": "gRpSQtp6VFZU"
      }
    },
    {
      "cell_type": "markdown",
      "source": [
        "#### **Atributos Preditores e Atributo Alvo**\n",
        "\n",
        "Todos os atributos foram selecionados como preditores, exceto o atributo `Class` que é o alvo desse projeto e o atributo `Time` que não aparenta ser relevante para a predição do modelo.  "
      ],
      "metadata": {
        "id": "fKq9qyMhX_3c"
      }
    },
    {
      "cell_type": "code",
      "source": [
        "# Definindo os atributos preditores e o atributo alvo\n",
        "x = df_credit.drop(['Class','Time'], axis=1)\n",
        "y = df_credit['Class']"
      ],
      "metadata": {
        "id": "gCH9O7PI2NBo"
      },
      "execution_count": 11,
      "outputs": []
    },
    {
      "cell_type": "markdown",
      "source": [
        "#### **Dados de Treino e Teste**\n",
        "\n"
      ],
      "metadata": {
        "id": "zA1MLh3LbOo8"
      }
    },
    {
      "cell_type": "code",
      "source": [
        "# Separando os dados em Treino e Teste\n",
        "x_train, x_test, y_train, y_test = train_test_split(x, y, test_size=0.3, random_state=0)"
      ],
      "metadata": {
        "id": "Aax5_pyUOFsr"
      },
      "execution_count": 13,
      "outputs": []
    },
    {
      "cell_type": "markdown",
      "source": [
        "#### **Balanceamento dos Dados**\n",
        "\n",
        "Como mencionado, o problema de dados desbalanceados é típico da área de classificação de dados.  A aplicação de estratégias de **reamostragem** se apresenta como uma solução eficaz para o problema de desbalanceamento. A estratégia mais simples é escolher exemplos para o conjunto de dados transformado aleatoriamente, chamada **reamostragem aleatória**.\n",
        "\n",
        "***Oversampling*** e ***undersampling*** são as principais técnicas de reamostragem aleatória para conjunto de dados de classificação desbalanceados, onde:\n",
        "- ***Random Oversampling***: Cria exemplos duplicados aleatoriamente na classe minoritária.\n",
        "- ***Random Undersampling***: Exclui aleatoriamente exemplos na classe majoritária.\n",
        "\n",
        "Os conceitos da estratégia de reamostragem aleatória podedem ser aprofundados através da [documentação oficial](https://imbalanced-learn.org/stable/references/generated/imblearn.under_sampling.RandomUnderSampler.html).\n",
        "\n",
        "Neste projeto optou-se por usar o ***Random Undersampling***.\n"
      ],
      "metadata": {
        "id": "UMjVUT7phG9t"
      }
    },
    {
      "cell_type": "code",
      "source": [
        "# Balanceamento que será usado no Pipeline\n",
        "balanceamento = RandomUnderSampler()"
      ],
      "metadata": {
        "id": "bQQG_YVALbpt"
      },
      "execution_count": null,
      "outputs": []
    },
    {
      "cell_type": "markdown",
      "source": [
        "#### **Normalização dos Dados**\n",
        "\n",
        "Foi usado a normalização ***StandardScaler***. Está técnica normaliza os dados a partir da fórmula:\n",
        "\n",
        "$$\n",
        "Z = \\frac{(x - \\mu)}{s}\n",
        "$$\n",
        "\n",
        "Onde **$\\mu$** é a média e **'s'** é o desvio padrão."
      ],
      "metadata": {
        "id": "t9g1KU--LuBI"
      }
    },
    {
      "cell_type": "code",
      "source": [
        "# Normalização que será usado no Pipeline\n",
        "norm = StandardScaler()"
      ],
      "metadata": {
        "id": "o5e_RWF_L3S1"
      },
      "execution_count": null,
      "outputs": []
    },
    {
      "cell_type": "markdown",
      "source": [
        "#***Machine Learning***\n",
        "\n",
        "---\n",
        "\n",
        "<center><img alt=\"Machine Learning\" width=\"100%\" src=\"https://raw.githubusercontent.com/GustavoSilva95/Data_Science/main/Imagens/MachineLearning.png\"></center>"
      ],
      "metadata": {
        "id": "9kjS5pW5DEJv"
      }
    },
    {
      "cell_type": "markdown",
      "source": [
        "## **Ajuste dos Algoritmos de *Machine Learning***\n",
        "\n",
        "Os algoritmos de *Machine Learning* serão treinados utilizando 70% do conjunto de dados, e serão avaliados através os dados de teste que representam 30% do dataset. A primeira etapa busca encontrar os hiperparâmetros que obtenham o melhor **AUC** (*Area Under the Curve*) a partir dos dados de treino. Para entender a AUC é preciso começar pela **Matriz de Confusão** (*Confusion Matrix*).\n",
        "\n",
        "###Confusion Matrix\n",
        "A matriz de confusão mostra em uma matriz o total de acertos e erros de um modelo.\n",
        "\n",
        "<center><img alt=\"Matriz\" width=\"50%\" src=\"https://raw.githubusercontent.com/GustavoSilva95/Data_Science/main/Imagens/matriz.png\"></center>\n",
        "\n",
        "Para facilitar o entendimento da matriz de confusão, considere os resultados de um teste de tumor, onde:\n",
        "\n",
        "* **Verdadeiro negativo - VN:** Por exemplo, quando o paciente não tem tumor maligno e o modelo classifica como não tendo tumor maligno.\n",
        "\n",
        "* **Falso negativo - FN**: Por exemplo, quando o paciente tem tumor maligno e o modelo classifica como não tendo tumor maligno.\n",
        "\n",
        "* **Verdadeiro positivo - VP:** Por exemplo, quando o paciente tem tumor maligno e o modelo classifica como tendo tumor maligno.\n",
        "\n",
        "* **Falso positivo - FP:** Por exemplo, quando o paciente não tem tumor maligno e o modelo classifica como tendo tumor maligno.\n",
        "\n",
        "Para encontrar a **AUC** é necessário construir a **Curva ROC** (Receiver Operating Characteristic). De maneira resumida, a **Curva ROC** é encontrada escolhendo *Threshold* (limiar, ponto de corte) diferentes, e para cada *Threshold* adotado existe uma matriz de confusão diferente. Duas taxas de cada matriz são importantes para construir a **Curva ROC**, são elas:\n",
        "\n",
        "$$\n",
        "Taxa VP = \\frac{VP}{VP+FN}\n",
        "$$\n",
        "-\n",
        "$$\n",
        "Taxa FP = \\frac{FP}{FP+VN}\n",
        "$$\n",
        "\n",
        "Assim, cada *Threshold* adotado tem-se uma matriz de confusão e cada matriz tem uma **Taxa VP** (taxa de verdadeiro positivo) e uma **Taxa FP** (taxa de falso positivo). Onde, a melhor combinação possível seria uma **Taxa VP** de 1 e uma **Taxa FP** de 0.\n",
        "\n",
        "Cada ponto é marcado em um gráfico e a união dos pontos forma a **Curva ROC**. No mesmo gráfico é marcado os pontos de extremo, ou seja, onde se adota *Threshold* = 0 e *Threshold* = 1. Traça-se então uma reta entre esses dois pontos. A área entre a **Curva ROC** e os pontos de extremo é a **AUC**.\n",
        "\n",
        "<center><img alt=\"Curva ROC\" width=\"40%\" src=\"https://raw.githubusercontent.com/GustavoSilva95/Data_Science/main/Imagens/Taxa%20VP.png\"></center"
      ],
      "metadata": {
        "id": "cs-RvjgLfTHJ"
      }
    },
    {
      "cell_type": "markdown",
      "source": [
        "## **Ajuste dos Modelos**\n",
        "\n",
        "Nesta etapa o objetivo é encontrar o ajuste dos **hiperparâmetros** de cada modelo, tendo como meta o melhor **AUC** como descrito acima. O ***Scikit-Learn*** fornece um recurso para avaliar facilmente diversas variações de hiperparâmetros de algoritmos, a função ***GridSearchCV***. Detalhes da função pode ser encontrada na [documentação oficial](http://scikit-learn.org/stable/modules/generated/sklearn.model_selection.GridSearchCV.html)."
      ],
      "metadata": {
        "id": "Ml1VpYTDWv_k"
      }
    },
    {
      "cell_type": "markdown",
      "source": [
        "#### **Logistic Regression**"
      ],
      "metadata": {
        "id": "TxFzpkWhfDY5"
      }
    },
    {
      "cell_type": "code",
      "source": [
        "# Definindo o Modelo\n",
        "modeloLR = LogisticRegression(solver='liblinear')\n",
        "\n",
        "# Criando um dicionário com os parâmetros que serão combinados\n",
        "parametrosLR = {'modelo__penalty':['l1', 'l2'], 'modelo__C':np.logspace(-2, 2, 14)}\n",
        "\n",
        "# Criando o Pipeline\n",
        "pipe = Pipeline([('balanceamento',balanceamento), ('normalização',norm), ('modelo', modeloLR)])\n",
        "\n",
        "# Criando o Modelo parametrizado\n",
        "modeloLR_parametrizado = GridSearchCV(pipe, parametrosLR, cv=10, scoring='roc_auc')\n",
        "modeloLR_parametrizado.fit(x_train, y_train)\n",
        "\n",
        "# Resultado\n",
        "print('-'*30)\n",
        "print('Resultado Logistic Regression')\n",
        "print('-'*30)\n",
        "print(f'AUC: {modeloLR_parametrizado.best_score_:.2f}')\n",
        "print(f'Penalty: {modeloLR_parametrizado.best_params_[\"modelo__penalty\"]}')\n",
        "print(f'C: {modeloLR_parametrizado.best_params_[\"modelo__C\"]:.2f}')"
      ],
      "metadata": {
        "colab": {
          "base_uri": "https://localhost:8080/"
        },
        "id": "mEbtB5P0I_vD",
        "outputId": "2ff79555-110d-4680-fdf5-11190ad07877"
      },
      "execution_count": null,
      "outputs": [
        {
          "output_type": "stream",
          "name": "stdout",
          "text": [
            "------------------------------\n",
            "Resultado Logistic Regression\n",
            "------------------------------\n",
            "AUC: 0.98\n",
            "Penalty: l2\n",
            "C: 0.08\n"
          ]
        }
      ]
    },
    {
      "cell_type": "markdown",
      "source": [
        "#### **KNN**"
      ],
      "metadata": {
        "id": "jxnsgDbMJBUN"
      }
    },
    {
      "cell_type": "code",
      "source": [
        "# Definindo o Modelo\n",
        "modeloKNN = KNeighborsClassifier()\n",
        "\n",
        "# Criando um dicionário com os parâmetros que serão combinados\n",
        "parametrosKNN = {'modelo__n_neighbors':[3, 5, 7, 9, 11, 13, 15, 17], 'modelo__p':[1, 2, 3, 4], 'modelo__metric':['minkowski', 'chebyshev']}\n",
        "\n",
        "# Criando o Pipeline\n",
        "pipe = Pipeline([('balanceamento',balanceamento), ('normalização',norm), ('modelo',modeloKNN)])\n",
        "\n",
        "# Criando Modelo parametrizado\n",
        "modeloKNN_parametrizado = GridSearchCV(pipe, parametrosKNN, cv=10, scoring='roc_auc')\n",
        "modeloKNN_parametrizado.fit(x_train, y_train)\n",
        "\n",
        "# Resultado\n",
        "print('-'*15)\n",
        "print('Resultado KNN')\n",
        "print('-'*15)\n",
        "print(f'AUC: {modeloKNN_parametrizado.best_score_:.2f}')\n",
        "print(f'n_neighbors: {modeloKNN_parametrizado.best_params_[\"modelo__n_neighbors\"]}')\n",
        "print(f'p: {modeloKNN_parametrizado.best_params_[\"modelo__p\"]}')\n",
        "print(f'metric: {modeloKNN_parametrizado.best_params_[\"modelo__metric\"]}')\n"
      ],
      "metadata": {
        "colab": {
          "base_uri": "https://localhost:8080/"
        },
        "id": "tTr9YEXhJRBJ",
        "outputId": "04f50333-b1d9-4e9a-9544-2ab18b57b18c"
      },
      "execution_count": null,
      "outputs": [
        {
          "output_type": "stream",
          "name": "stdout",
          "text": [
            "---------------\n",
            "Resultado KNN\n",
            "---------------\n",
            "AUC: 0.97\n",
            "n_neighbors: 17\n",
            "p: 1\n",
            "metric: minkowski\n"
          ]
        }
      ]
    },
    {
      "cell_type": "markdown",
      "source": [
        "#### **Decision Trees**"
      ],
      "metadata": {
        "id": "tCIm2TBZJaFZ"
      }
    },
    {
      "cell_type": "code",
      "source": [
        "# Definindo o Modelo\n",
        "modeloDT = DecisionTreeClassifier()\n",
        "\n",
        "# Criando um dicionário com os parâmetros que serão combinados\n",
        "parametrosDT = {'modelo__min_samples_split':[2, 3, 4, 5, 6],\n",
        "                'modelo__max_depth':[3, 4, 5, 6, 7, 8, 9],\n",
        "                'modelo__criterion':['gini', 'entropy']}\n",
        "\n",
        "# Criando o Pipeline\n",
        "pipe = Pipeline([('balanceamento',balanceamento), ('normalização',norm), ('modelo',modeloDT)])\n",
        "\n",
        "# Criando Modelo parametrizado\n",
        "modeloDT_parametrizado = GridSearchCV(pipe, parametrosDT, cv=10, scoring='roc_auc')\n",
        "modeloDT_parametrizado.fit(x_train, y_train)\n",
        "\n",
        "#Resultado\n",
        "print('-'*25)\n",
        "print('Resultado Decision Trees')\n",
        "print('-'*25)\n",
        "print(f'AUC: {modeloDT_parametrizado.best_score_:.2f}')\n",
        "print(f'min_samples_split: {modeloDT_parametrizado.best_params_[\"modelo__min_samples_split\"]}')\n",
        "print(f'max_depth: {modeloDT_parametrizado.best_params_[\"modelo__max_depth\"]}')\n",
        "print(f'criterion: {modeloDT_parametrizado.best_params_[\"modelo__criterion\"]}')\n"
      ],
      "metadata": {
        "colab": {
          "base_uri": "https://localhost:8080/"
        },
        "id": "mFjGluFHJo2W",
        "outputId": "c0a3c97b-c249-4481-fe41-56cb6daea8cd"
      },
      "execution_count": null,
      "outputs": [
        {
          "output_type": "stream",
          "name": "stdout",
          "text": [
            "-------------------------\n",
            "Resultado Decision Trees\n",
            "-------------------------\n",
            "AUC: 0.96\n",
            "min_samples_split: 5\n",
            "max_depth: 3\n",
            "criterion: entropy\n"
          ]
        }
      ]
    },
    {
      "cell_type": "markdown",
      "source": [
        "## **Avaliação dos Algoritmos de *Machine Learning***\n",
        "\n",
        "Com os hiperparâmetros encontrados, o próximo passo será a criação dos modelos finais. Antes, porém, é necessário aplicar o pré-processamento nos dados de treino e teste, visto que na etapa anterior foi usado o ***Pipeline*** para evitar o vazamento de dados durante o ajuste dos hiperparâmetros. "
      ],
      "metadata": {
        "id": "B1HeozLcbcyN"
      }
    },
    {
      "cell_type": "markdown",
      "source": [
        "#### **Pré-processamento**"
      ],
      "metadata": {
        "id": "hTChriyQexl3"
      }
    },
    {
      "cell_type": "code",
      "source": [
        "# balanceando os dados de Treino\n",
        "rus = RandomUnderSampler()\n",
        "x_train, y_train = rus.fit_resample(x_train, y_train)\n",
        "\n",
        "# Plotar a nova distribuição de classes\n",
        "cor2 = {classe: \"darkgreen\" if classe == 0 else \"darkred\" for classe in y_train.unique()}\n",
        "fig, ax = plt.subplots(figsize=(14, 8))\n",
        "sns.countplot(y_train, palette=cor2, ax=ax)\n",
        "\n",
        "autenticas = (y_train==0).sum()\n",
        "fraudes    = (y_train==1).sum()\n",
        "\n",
        "fig.text(x= 0.162 , y= 0.9 , s='CONJUNTO DE DADOS BALANCEADOS',\n",
        "        fontsize=24, color='darkgray', weight='bold')\n",
        "fig.text(x= 0.162 , y= 0.865 , s='O coonjunto de dados após ser aplicado a técnica',\n",
        "        fontsize=15, color='gray')\n",
        "fig.text(x= 0.162 , y= 0.835 , s=f'de Random Undersampling ficou com {autenticas} transações',\n",
        "        fontsize=15, color='gray')\n",
        "fig.text(x= 0.162 , y= 0.805 , s=f'autênticas e {fraudes} transações fraudulentas.',\n",
        "        fontsize=15, color='gray')\n",
        "\n",
        "fig.text(x= 0.3 , y= 0.715 , s=autenticas,\n",
        "        fontsize=20, color='gray', weight='bold')\n",
        "fig.text(x= 0.685 , y= 0.715 , s=fraudes,\n",
        "        fontsize=20, color='gray', weight='bold')\n",
        "\n",
        "\n",
        "ax.set_ylim(0, 450)\n",
        "ax.set_ylabel(None)\n",
        "ax.set_xlabel(None)\n",
        "ax.set_yticklabels([])\n",
        "ax.set_yticks([])\n",
        "ax.set_xticklabels(['AUTÊNTICA', 'FRAUDE'], fontsize=20, color='darkgray', weight='bold')\n",
        "ax.spines['top'].set_visible(False)\n",
        "ax.spines['right'].set_visible(False)\n",
        "ax.spines['left'].set_visible(False)\n",
        "ax.spines['bottom'].set_visible(False)\n",
        "\n",
        "plt.show()"
      ],
      "metadata": {
        "id": "8BB_BhLVfYtG",
        "colab": {
          "base_uri": "https://localhost:8080/",
          "height": 522
        },
        "outputId": "886733ac-4be4-400c-a13b-57ab9d6a0acd"
      },
      "execution_count": 14,
      "outputs": [
        {
          "output_type": "display_data",
          "data": {
            "image/png": "[encoded data removed]",
            "text/plain": [
              "<Figure size 1008x576 with 1 Axes>"
            ]
          },
          "metadata": {}
        }
      ]
    },
    {
      "cell_type": "code",
      "source": [
        "# Criando um normalizador usando o conjunto de treino\n",
        "normalizador = StandardScaler().fit(x_train)\n",
        "\n",
        "# Normalizando os dados de treino\n",
        "x_train = normalizador.transform(x_train)\n",
        "\n",
        "# Normalizando os dados de teste\n",
        "x_test = normalizador.transform(x_test)"
      ],
      "metadata": {
        "id": "hIuTkYzafU1H"
      },
      "execution_count": null,
      "outputs": []
    },
    {
      "cell_type": "markdown",
      "source": [
        "#### **Logistic Regression**"
      ],
      "metadata": {
        "id": "YBCHHYUuk8tW"
      }
    },
    {
      "cell_type": "code",
      "source": [
        "# Definindo o Modelo\n",
        "modeloLR = LogisticRegression(penalty='l2', C=0.08, solver='liblinear')\n",
        "\n",
        "# Treinando o Modelo\n",
        "modeloLR.fit(x_train, y_train)\n",
        "\n",
        "# Previsão usando os dados de teste\n",
        "y_predLR = modeloLR.predict(x_test)\n",
        "y_probLR = modeloLR.predict_proba(x_test)[:,1]\n",
        "\n",
        "# Exibindo o resultado\n",
        "print('-'*50)\n",
        "print('          Resultado Logistic Regression')\n",
        "print('-'*50)\n",
        "print(classification_report(y_test, y_predLR, digits=4))\n",
        "print(f'AUC: {roc_auc_score(y_test, y_predLR):.4f}')"
      ],
      "metadata": {
        "colab": {
          "base_uri": "https://localhost:8080/"
        },
        "id": "cGf4v58VlATp",
        "outputId": "388fd62c-d686-452f-e57e-bc1ad88fdca9"
      },
      "execution_count": null,
      "outputs": [
        {
          "output_type": "stream",
          "name": "stdout",
          "text": [
            "--------------------------------------------------\n",
            "          Resultado Logistic Regression\n",
            "--------------------------------------------------\n",
            "              precision    recall  f1-score   support\n",
            "\n",
            "           0     0.9998    0.9909    0.9953     85296\n",
            "           1     0.1416    0.8707    0.2436       147\n",
            "\n",
            "    accuracy                         0.9907     85443\n",
            "   macro avg     0.5707    0.9308    0.6194     85443\n",
            "weighted avg     0.9983    0.9907    0.9940     85443\n",
            "\n",
            "AUC: 0.9308\n"
          ]
        }
      ]
    },
    {
      "cell_type": "markdown",
      "source": [
        "#### **KNN**"
      ],
      "metadata": {
        "id": "tmF2Jl2AoOGf"
      }
    },
    {
      "cell_type": "code",
      "source": [
        "# Definindo o Modelo\n",
        "modeloKNN = KNeighborsClassifier(n_neighbors=17, p=1, metric='minkowski')\n",
        "\n",
        "# Treinando o Modelo\n",
        "modeloKNN.fit(x_train, y_train)\n",
        "\n",
        "# Previsão usando os dados de teste\n",
        "y_predKNN = modeloKNN.predict(x_test)\n",
        "y_probKNN = modeloKNN.predict_proba(x_test)[:,1]\n",
        "\n",
        "# Exibindo o Resultado\n",
        "print('-'*50)\n",
        "print('                 Resultado KNN')\n",
        "print('-'*50)\n",
        "print(classification_report(y_test, y_predKNN, digits=4))\n",
        "print(f'AUC: {roc_auc_score(y_test, y_predKNN):.4f}')"
      ],
      "metadata": {
        "colab": {
          "base_uri": "https://localhost:8080/"
        },
        "id": "Az63y-vPoTae",
        "outputId": "38f3a35c-9c7e-4805-fed7-48c0b1824fb2"
      },
      "execution_count": null,
      "outputs": [
        {
          "output_type": "stream",
          "name": "stdout",
          "text": [
            "--------------------------------------------------\n",
            "                 Resultado KNN\n",
            "--------------------------------------------------\n",
            "              precision    recall  f1-score   support\n",
            "\n",
            "           0     0.9997    0.9948    0.9973     85296\n",
            "           1     0.2193    0.8503    0.3487       147\n",
            "\n",
            "    accuracy                         0.9945     85443\n",
            "   macro avg     0.6095    0.9226    0.6730     85443\n",
            "weighted avg     0.9984    0.9945    0.9961     85443\n",
            "\n",
            "AUC: 0.9226\n"
          ]
        }
      ]
    },
    {
      "cell_type": "markdown",
      "source": [
        "#### **Decision Trees**"
      ],
      "metadata": {
        "id": "jlslBuGnpqr4"
      }
    },
    {
      "cell_type": "code",
      "source": [
        "# Definindo o Modelo\n",
        "modeloDT = DecisionTreeClassifier(min_samples_split=5, max_depth=3, criterion='entropy')\n",
        "\n",
        "# Treinando o Modelo\n",
        "modeloDT.fit(x_train, y_train)\n",
        "\n",
        "# Previsão usando os dados de teste\n",
        "y_predDT = modeloDT.predict(x_test)\n",
        "y_probDT = modeloDT.predict_proba(x_test)[:,1]\n",
        "\n",
        "# Exibindo o Resultado\n",
        "print('-'*50)\n",
        "print('             Resultado Decision Trees')\n",
        "print('-'*50)\n",
        "print(classification_report(y_test, y_predDT, digits=4))\n",
        "print(f'AUC: {roc_auc_score(y_test, y_predDT):.4f}')"
      ],
      "metadata": {
        "colab": {
          "base_uri": "https://localhost:8080/"
        },
        "id": "GnEnaT4ypuuX",
        "outputId": "b92f371f-a2b4-40d7-d8ca-8ec3c7a7c9c9"
      },
      "execution_count": null,
      "outputs": [
        {
          "output_type": "stream",
          "name": "stdout",
          "text": [
            "--------------------------------------------------\n",
            "             Resultado Decision Trees\n",
            "--------------------------------------------------\n",
            "              precision    recall  f1-score   support\n",
            "\n",
            "           0     0.9998    0.9711    0.9852     85296\n",
            "           1     0.0490    0.8639    0.0928       147\n",
            "\n",
            "    accuracy                         0.9709     85443\n",
            "   macro avg     0.5244    0.9175    0.5390     85443\n",
            "weighted avg     0.9981    0.9709    0.9837     85443\n",
            "\n",
            "AUC: 0.9175\n"
          ]
        }
      ]
    },
    {
      "cell_type": "markdown",
      "source": [
        "#### **Confusion Matrix**"
      ],
      "metadata": {
        "id": "7ecaVaSAqqcC"
      }
    },
    {
      "cell_type": "code",
      "source": [
        "# Exibindo a confusion matrix dos modelos\n",
        "fig, (ax1, ax2, ax3) = plt.subplots(nrows=1, ncols=3, figsize=(18, 5))\n",
        "\n",
        "# Confusion Matrix Logistc Regression\n",
        "sns.heatmap(confusion_matrix(y_test, y_predLR, normalize='true'),\n",
        "            cmap='Reds', annot=True, fmt='.3f', cbar=False,\n",
        "            annot_kws={'size': 13}, xticklabels=['Autêntica','Fraude'],\n",
        "            yticklabels=['Autêntica','Fraude'], ax=ax1)\n",
        "ax1.set_ylabel('Real', fontsize=15)\n",
        "ax1.set_xlabel('Previsão', fontsize=15)\n",
        "ax1.set_title('Logistc Regression', fontsize=20, color='darkred', weight='bold')\n",
        "\n",
        "# Confusion Matrix KNN\n",
        "sns.heatmap(confusion_matrix(y_test, y_predKNN, normalize='true'),\n",
        "            cmap='Blues', annot=True, fmt='.3f', cbar=False,\n",
        "            annot_kws={'size': 13}, xticklabels=['Autêntica','Fraude'],\n",
        "            yticklabels=['Autêntica','Fraude'], ax=ax2)\n",
        "ax2.set_ylabel('Real', fontsize=15)\n",
        "ax2.set_xlabel('Previsão', fontsize=15)\n",
        "ax2.set_title('KNN', fontsize=20, color='darkblue', weight='bold')\n",
        "\n",
        "# Confusion Matrix Decision Trees\n",
        "sns.heatmap(confusion_matrix(y_test, y_predDT, normalize='true'),\n",
        "            cmap='Greens', annot=True, fmt='.3f', cbar=False,\n",
        "            annot_kws={'size': 13}, xticklabels=['Autêntica','Fraude'],\n",
        "            yticklabels=['Autêntica','Fraude'], ax=ax3)\n",
        "ax3.set_ylabel('Real', fontsize=15)\n",
        "ax3.set_xlabel('Previsão', fontsize=15)\n",
        "ax3.set_title('Decision Trees', fontsize=20, color='darkgreen', weight='bold')\n",
        "\n",
        "plt.show()"
      ],
      "metadata": {
        "colab": {
          "base_uri": "https://localhost:8080/",
          "height": 360
        },
        "id": "d-axTXgiScva",
        "outputId": "dbbdb8da-b00a-4932-b403-dba0c77ea6c8"
      },
      "execution_count": null,
      "outputs": [
        {
          "output_type": "display_data",
          "data": {
            "image/png": "[encoded data removed]",
            "text/plain": [
              "<Figure size 1296x360 with 3 Axes>"
            ]
          },
          "metadata": {}
        }
      ]
    },
    {
      "cell_type": "markdown",
      "source": [
        "Por meio do conjunto de testes, verificou-se que a **AUC** alcançada ficou abaixo da **AUC** obtida com os dados de treino para todos os modelos. Valores semelhantes são esperados para predições de novos dados.  O objetivo, no entanto, era a otimização entre reduzir as perdas pela instituição financeira e, ao mesmo tempo, evitar o bloqueio de uma compra legítima. Ou seja, reduzir os **Falsos Negativos** e **Falsos Positivos**. A decisão de qual dos erros diminuir depende de cada caso, pois é necessário que a instituição avalie quais dos erros serão mais prejudiciais ao negócio. Porém neste exemplo, pode-se inferir que o algoritmo ***Logistic Regression*** obteve o melhor equilíbrio entre esses dois erros, tendo uma **Taxa de Falso Negativo** de 12,9% e uma **Taxa de Falso Positivo** de 0,9%."
      ],
      "metadata": {
        "id": "WFfeiVZ6NhEL"
      }
    },
    {
      "cell_type": "markdown",
      "source": [
        "# **Conclusão**\n",
        "\n",
        "Este projeto ao abordar o uso de algoritmos de Machine Learning na detecção de fraudes trouxe também problemas como conjunto de dados desbalanceados e vazamento de dados, cujo o tratamento é fundamental para se obter um modelo preditivo com resultados, para novos dados, satisfatórios.\n",
        "\n",
        "Outro ponto que se mostrou crucial é conhecer as métricas de avaliação de modelos, assim como compreender a construção de uma Matriz de Confusão. Além de conhecer bem o negócio para o qual o modelo será aplicado, para então conseguir escolher as melhores métricas para avaliar o resultado.\n",
        "\n",
        "O exemplo concluiu que o melhor equilíbrio para o problema apresentado foi obtido pelo algoritmo de Logistic Regression, o qual teve 12,9% de **Falso Negativo** e 0,9% de **Falso Positivo**. Porém, como dito, a decisão de qual métrica escolher para criação e avaliação do modelo depende de cada caso.\n",
        "\n",
        "É importante ressaltar que este exemplo prático não buscou ser exaustivo, apresentando apenas uma parte dos muitos recursos disponíveis que podem ser aplicados. Poderia ter sido feito uma análise mais profunda dos dados, uma seleção de atributos mais importante, bem como testar modelos mais robustos de Machine Learning para classificação"
      ],
      "metadata": {
        "id": "5hJrpmO2Nm_u"
      }
    }
  ]
}